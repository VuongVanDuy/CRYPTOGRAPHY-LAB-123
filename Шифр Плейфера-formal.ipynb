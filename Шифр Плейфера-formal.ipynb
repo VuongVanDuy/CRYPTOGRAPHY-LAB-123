{
 "cells": [
  {
   "cell_type": "code",
   "id": "initial_id",
   "metadata": {
    "collapsed": true,
    "ExecuteTime": {
     "end_time": "2025-02-25T23:26:24.951339Z",
     "start_time": "2025-02-25T23:26:24.944456Z"
    }
   },
   "source": [
    "alphabet = 'ABCDEFGHIKLMNOPQRSTUVWXYZ'\n",
    "message = 'Hello Vuong Van Duy'\n",
    "key_word = 'SECRET'"
   ],
   "outputs": [],
   "execution_count": 1
  },
  {
   "metadata": {
    "ExecuteTime": {
     "end_time": "2025-02-25T23:26:24.962485Z",
     "start_time": "2025-02-25T23:26:24.957572Z"
    }
   },
   "cell_type": "code",
   "source": [
    "def set_key_word(key_word):\n",
    "    key_word_fix = []\n",
    "    for char in key_word:\n",
    "        if char not in key_word_fix and char in alphabet:\n",
    "            key_word_fix.append(char)\n",
    "    \n",
    "    return key_word_fix"
   ],
   "id": "44e339293e016277",
   "outputs": [],
   "execution_count": 2
  },
  {
   "metadata": {
    "ExecuteTime": {
     "end_time": "2025-02-25T23:26:25.225734Z",
     "start_time": "2025-02-25T23:26:25.200302Z"
    }
   },
   "cell_type": "code",
   "source": "set_key_word(key_word)",
   "id": "a138c4b539a042b9",
   "outputs": [
    {
     "data": {
      "text/plain": [
       "['S', 'E', 'C', 'R', 'T']"
      ]
     },
     "execution_count": 3,
     "metadata": {},
     "output_type": "execute_result"
    }
   ],
   "execution_count": 3
  },
  {
   "metadata": {
    "ExecuteTime": {
     "end_time": "2025-02-25T23:26:25.256488Z",
     "start_time": "2025-02-25T23:26:25.247490Z"
    }
   },
   "cell_type": "code",
   "source": [
    "def get_alphabet_key(key_word):\n",
    "    key_word = set_key_word(key_word)\n",
    "    matrix = [['-' for i in range(5)] for j in range(5)]\n",
    "    alphabet_key = key_word\n",
    "    for char in alphabet:\n",
    "        if char not in key_word:\n",
    "            alphabet_key += char\n",
    "    \n",
    "    return alphabet_key"
   ],
   "id": "2c36f8860d38bab8",
   "outputs": [],
   "execution_count": 4
  },
  {
   "metadata": {
    "ExecuteTime": {
     "end_time": "2025-02-25T23:26:25.305830Z",
     "start_time": "2025-02-25T23:26:25.297554Z"
    }
   },
   "cell_type": "code",
   "source": [
    "alphabet_key = get_alphabet_key(key_word)\n",
    "print(alphabet_key)"
   ],
   "id": "631f536f882f9023",
   "outputs": [
    {
     "name": "stdout",
     "output_type": "stream",
     "text": [
      "['S', 'E', 'C', 'R', 'T', 'A', 'B', 'D', 'F', 'G', 'H', 'I', 'K', 'L', 'M', 'N', 'O', 'P', 'Q', 'U', 'V', 'W', 'X', 'Y', 'Z']\n"
     ]
    }
   ],
   "execution_count": 5
  },
  {
   "metadata": {
    "ExecuteTime": {
     "end_time": "2025-02-25T23:26:25.362175Z",
     "start_time": "2025-02-25T23:26:25.353870Z"
    }
   },
   "cell_type": "code",
   "source": [
    "def set_ord_message(message, alphabet_key):\n",
    "    ord_message = []\n",
    "    for char in message:\n",
    "        if char in alphabet_key:\n",
    "            ord_message.append(alphabet_key.index(char))\n",
    "    \n",
    "    return ord_message"
   ],
   "id": "623f293f1475d82",
   "outputs": [],
   "execution_count": 6
  },
  {
   "metadata": {
    "ExecuteTime": {
     "end_time": "2025-02-25T23:26:25.399316Z",
     "start_time": "2025-02-25T23:26:25.391362Z"
    }
   },
   "cell_type": "code",
   "source": "set_ord_message(message, alphabet_key)",
   "id": "37f08f7a46752495",
   "outputs": [
    {
     "data": {
      "text/plain": [
       "[10, 20, 20, 7]"
      ]
     },
     "execution_count": 7,
     "metadata": {},
     "output_type": "execute_result"
    }
   ],
   "execution_count": 7
  },
  {
   "metadata": {
    "ExecuteTime": {
     "end_time": "2025-02-25T23:26:25.443714Z",
     "start_time": "2025-02-25T23:26:25.434706Z"
    }
   },
   "cell_type": "code",
   "source": [
    "def pre_format_message(message):\n",
    "    message = message.upper()\n",
    "    for char in message:\n",
    "        if char not in alphabet:\n",
    "            message = message.replace(char, '')\n",
    "           \n",
    "    for i in range(0, len(message), 2):\n",
    "        if i + 1 >= len(message):\n",
    "            break\n",
    "        if message[i] == message[i+1]:\n",
    "            message = message[:i+1] + 'X' + message[i+1:]\n",
    "       \n",
    "    if len(message) % 2 != 0:\n",
    "        message += 'X'\n",
    "            \n",
    "    return message"
   ],
   "id": "1a93d45bb6978c7d",
   "outputs": [],
   "execution_count": 8
  },
  {
   "metadata": {
    "ExecuteTime": {
     "end_time": "2025-02-25T23:26:26.253083Z",
     "start_time": "2025-02-25T23:26:25.479611Z"
    }
   },
   "cell_type": "code",
   "source": [
    "message_formated = pre_format_message(message)\n",
    "print(message_formated)\n",
    "\n",
    "import pandas as pd\n",
    "arr = []\n",
    "arr.append(list('HelloVuongVanDuy'.upper()))\n",
    "arr.append(list(message_formated))\n",
    "\n",
    "df = pd.DataFrame(arr)\n",
    "df.to_excel('output/output_playfair.xlsx', index=False, header=False)"
   ],
   "id": "284a90dc87133245",
   "outputs": [
    {
     "name": "stdout",
     "output_type": "stream",
     "text": [
      "HELXLOVUONGVANDUYX\n"
     ]
    }
   ],
   "execution_count": 9
  },
  {
   "metadata": {
    "ExecuteTime": {
     "end_time": "2025-02-25T23:26:26.276486Z",
     "start_time": "2025-02-25T23:26:26.269489Z"
    }
   },
   "cell_type": "code",
   "source": "ord_message_formated = set_ord_message(message_formated, alphabet_key)",
   "id": "1037f5c96b12ec04",
   "outputs": [],
   "execution_count": 10
  },
  {
   "metadata": {
    "ExecuteTime": {
     "end_time": "2025-02-25T23:26:26.301710Z",
     "start_time": "2025-02-25T23:26:26.293712Z"
    }
   },
   "cell_type": "code",
   "source": [
    "def encrypt_playfair(message, key_word):\n",
    "    encrypted_message = ''\n",
    "    alphabet_key = get_alphabet_key(key_word)\n",
    "    message_formated = pre_format_message(message)\n",
    "    ord_message = set_ord_message(message_formated, alphabet_key)\n",
    "    k = len(alphabet_key)\n",
    "    \n",
    "    for i in range(0, len(ord_message), 2):\n",
    "        row1, col1 = ord_message[i] // 5, ord_message[i] % 5\n",
    "        row2, col2 = ord_message[i+1] // 5, ord_message[i+1] % 5\n",
    "        sub = (ord_message[i] - ord_message[i+1]) % k\n",
    "        if row1 == row2:\n",
    "            encrypted_message += alphabet_key[(ord_message[i] + 1) % k] + alphabet_key[(ord_message[i+1] + 1) % k]\n",
    "        elif col1 == col2:\n",
    "            encrypted_message += alphabet_key[(ord_message[i] + 5) % k] + alphabet_key[(ord_message[i+1] + 5) % k]\n",
    "        else:\n",
    "            encrypted_message += alphabet_key[row1*5 + col2] + alphabet_key[row2*5 + col1]\n",
    "            \n",
    "    \n",
    "    return encrypted_message"
   ],
   "id": "e899310b9c9361fa",
   "outputs": [],
   "execution_count": 11
  },
  {
   "metadata": {
    "ExecuteTime": {
     "end_time": "2025-02-25T23:26:26.326852Z",
     "start_time": "2025-02-25T23:26:26.320777Z"
    }
   },
   "cell_type": "code",
   "source": [
    "cipher_text = encrypt_playfair(message, key_word)\n",
    "print(cipher_text)"
   ],
   "id": "965208a26b1061b8",
   "outputs": [
    {
     "name": "stdout",
     "output_type": "stream",
     "text": [
      "ISKYIQZNPOAZHVGPZY\n"
     ]
    }
   ],
   "execution_count": 12
  },
  {
   "metadata": {
    "ExecuteTime": {
     "end_time": "2025-02-25T23:26:26.359707Z",
     "start_time": "2025-02-25T23:26:26.351410Z"
    }
   },
   "cell_type": "code",
   "source": [
    "def decrypt_playfair(cipher_text, key_word):\n",
    "    decrypted_message = ''\n",
    "    alphabet_key = get_alphabet_key(key_word)\n",
    "    ord_cipher_text = set_ord_message(cipher_text, alphabet_key)\n",
    "    k = len(alphabet_key)\n",
    "    \n",
    "    for i in range(0, len(ord_cipher_text), 2):\n",
    "        row1, col1 = ord_cipher_text[i] // 5, ord_cipher_text[i] % 5\n",
    "        row2, col2 = ord_cipher_text[i+1] // 5, ord_cipher_text[i+1] % 5\n",
    "        if row1 == row2:\n",
    "            decrypted_message += alphabet_key[(ord_cipher_text[i] - 1) % k] + alphabet_key[(ord_cipher_text[i+1] - 1) % k]\n",
    "        elif col1 == col2:\n",
    "            decrypted_message += alphabet_key[(ord_cipher_text[i] - 5) % k] + alphabet_key[(ord_cipher_text[i+1] - 5) % k]\n",
    "        else:\n",
    "            decrypted_message += alphabet_key[row1*5 + col2] + alphabet_key[row2*5 + col1]\n",
    "        \n",
    "    \n",
    "    return decrypted_message"
   ],
   "id": "769cd825fd0f4655",
   "outputs": [],
   "execution_count": 13
  },
  {
   "metadata": {
    "ExecuteTime": {
     "end_time": "2025-02-25T23:26:26.406408Z",
     "start_time": "2025-02-25T23:26:26.398412Z"
    }
   },
   "cell_type": "code",
   "source": [
    "decrypted_message = decrypt_playfair(cipher_text, key_word)\n",
    "print(decrypted_message)"
   ],
   "id": "82668cb52e8cde35",
   "outputs": [
    {
     "name": "stdout",
     "output_type": "stream",
     "text": [
      "HELXLOVUONGVANDUYX\n"
     ]
    }
   ],
   "execution_count": 14
  },
  {
   "metadata": {
    "ExecuteTime": {
     "end_time": "2025-02-25T23:28:00.679422Z",
     "start_time": "2025-02-25T23:28:00.671422Z"
    }
   },
   "cell_type": "code",
   "source": [
    "# in toàn bộ dữ liệu ra file text\n",
    "with open('output_cipher/output_playfair.txt', 'w') as f:\n",
    "    f.write('Key word: ' + key_word + '\\n')\n",
    "    # in alphabet_key\n",
    "    f.write('Alphabet key: ' + ''.join(alphabet_key) + '\\n')\n",
    "    f.write('Message: ' + message + '\\n')\n",
    "    f.write('Message formated: ' + message_formated + '\\n')\n",
    "    f.write('Cipher text: ' + cipher_text + '\\n')\n",
    "    f.write('Decrypted message: ' + decrypted_message + '\\n')"
   ],
   "id": "f2664cd0674eaafe",
   "outputs": [],
   "execution_count": 17
  }
 ],
 "metadata": {
  "kernelspec": {
   "display_name": "Python 3",
   "language": "python",
   "name": "python3"
  },
  "language_info": {
   "codemirror_mode": {
    "name": "ipython",
    "version": 2
   },
   "file_extension": ".py",
   "mimetype": "text/x-python",
   "name": "python",
   "nbconvert_exporter": "python",
   "pygments_lexer": "ipython2",
   "version": "2.7.6"
  }
 },
 "nbformat": 4,
 "nbformat_minor": 5
}
