{
 "cells": [
  {
   "cell_type": "code",
   "id": "initial_id",
   "metadata": {
    "collapsed": true,
    "ExecuteTime": {
     "end_time": "2025-02-25T23:14:04.890642Z",
     "start_time": "2025-02-25T23:14:04.881739Z"
    }
   },
   "source": [
    "alphabet = 'ABCDEFGHIJKLMNOPQRSTUVWXYZ'\n",
    "message = 'My name is Vuong Van Duy from group 1362'\n",
    "# message = '''This template shows how you can use the Vigenere component to encrypt and decrypt plaintext using the Vigenere cipher. The secret key can be entered in the text input component \"Key\".'''\n",
    "key = 'SECRET'"
   ],
   "outputs": [],
   "execution_count": 1
  },
  {
   "metadata": {
    "ExecuteTime": {
     "end_time": "2025-02-25T23:14:04.903682Z",
     "start_time": "2025-02-25T23:14:04.897234Z"
    }
   },
   "cell_type": "code",
   "source": [
    "def generate_table_Vigenere(key):\n",
    "    table = []\n",
    "    table.append(list(alphabet))\n",
    "    for char in key:\n",
    "        index = alphabet.index(char)\n",
    "        row_table = list(alphabet[index:] + alphabet[:index])\n",
    "        table.append(row_table)\n",
    "        \n",
    "    return table"
   ],
   "id": "2c60b3d3af523b39",
   "outputs": [],
   "execution_count": 2
  },
  {
   "metadata": {
    "ExecuteTime": {
     "end_time": "2025-02-25T23:14:05.157306Z",
     "start_time": "2025-02-25T23:14:05.147030Z"
    }
   },
   "cell_type": "code",
   "source": [
    "table_Vigenere = generate_table_Vigenere(key)\n",
    "for i in range(len(table_Vigenere)):\n",
    "    print(i, end=' ')\n",
    "    for j in range(len(table_Vigenere[0])):\n",
    "        print(table_Vigenere[i][j], end=' ')\n",
    "    print()"
   ],
   "id": "ff0e48a07bf7d7d7",
   "outputs": [
    {
     "name": "stdout",
     "output_type": "stream",
     "text": [
      "0 A B C D E F G H I J K L M N O P Q R S T U V W X Y Z \n",
      "1 S T U V W X Y Z A B C D E F G H I J K L M N O P Q R \n",
      "2 E F G H I J K L M N O P Q R S T U V W X Y Z A B C D \n",
      "3 C D E F G H I J K L M N O P Q R S T U V W X Y Z A B \n",
      "4 R S T U V W X Y Z A B C D E F G H I J K L M N O P Q \n",
      "5 E F G H I J K L M N O P Q R S T U V W X Y Z A B C D \n",
      "6 T U V W X Y Z A B C D E F G H I J K L M N O P Q R S \n"
     ]
    }
   ],
   "execution_count": 3
  },
  {
   "metadata": {
    "ExecuteTime": {
     "end_time": "2025-02-25T23:14:05.932176Z",
     "start_time": "2025-02-25T23:14:05.178435Z"
    }
   },
   "cell_type": "code",
   "source": [
    "import pandas as pd\n",
    "df = pd.DataFrame(table_Vigenere)\n",
    "\n",
    "# Lưu vào file Excel\n",
    "df.to_excel(\"output/table_Vigenere.xlsx\", index=False, header=False)"
   ],
   "id": "54d842f566288637",
   "outputs": [],
   "execution_count": 4
  },
  {
   "metadata": {
    "ExecuteTime": {
     "end_time": "2025-02-25T23:14:05.958258Z",
     "start_time": "2025-02-25T23:14:05.951596Z"
    }
   },
   "cell_type": "code",
   "source": [
    "def split_message(message, key):\n",
    "    message = message.upper()\n",
    "    for char in message:\n",
    "        if not char.isalpha():\n",
    "            message = message.replace(char, '')\n",
    "    n = len(key)\n",
    "    m = len(message)\n",
    "    result = []\n",
    "    for i in range(0, m, n):\n",
    "        result.append(message[i:i+n])\n",
    "    \n",
    "    return result"
   ],
   "id": "5479c63c1af0af3c",
   "outputs": [],
   "execution_count": 5
  },
  {
   "metadata": {
    "ExecuteTime": {
     "end_time": "2025-02-25T23:14:05.981183Z",
     "start_time": "2025-02-25T23:14:05.974686Z"
    }
   },
   "cell_type": "code",
   "source": [
    "sub_messages = split_message(message, key)\n",
    "print(sub_messages)"
   ],
   "id": "904a467a9d40e452",
   "outputs": [
    {
     "name": "stdout",
     "output_type": "stream",
     "text": [
      "['MYNAME', 'ISVUON', 'GVANDU', 'YFROMG', 'ROUP']\n"
     ]
    }
   ],
   "execution_count": 6
  },
  {
   "metadata": {
    "ExecuteTime": {
     "end_time": "2025-02-25T23:14:06.076360Z",
     "start_time": "2025-02-25T23:14:06.067395Z"
    }
   },
   "cell_type": "code",
   "source": [
    "def encrypt_sub_messages(message, key):\n",
    "    table_Vigenere = generate_table_Vigenere(key)\n",
    "    split_message_list = split_message(message, key)\n",
    "    ciphertext_list = []\n",
    "    \n",
    "    for sub_msg in split_message_list:\n",
    "        sub_ciphertext = ''\n",
    "        for char in sub_msg:\n",
    "            index_row = sub_msg.index(char) + 1\n",
    "            index_col = alphabet.index(char)\n",
    "            sub_msg = sub_msg.replace(char, '-', 1)\n",
    "            cipher_char = table_Vigenere[index_row][index_col]\n",
    "            sub_ciphertext += cipher_char\n",
    "            \n",
    "        ciphertext_list.append(sub_ciphertext)\n",
    "    \n",
    "    return ciphertext_list"
   ],
   "id": "e654aed0eade7fd5",
   "outputs": [],
   "execution_count": 7
  },
  {
   "metadata": {
    "ExecuteTime": {
     "end_time": "2025-02-25T23:14:06.116604Z",
     "start_time": "2025-02-25T23:14:06.110145Z"
    }
   },
   "cell_type": "code",
   "source": [
    "sub_cipher_texts = encrypt_sub_messages(message, key)\n",
    "print(sub_cipher_texts)"
   ],
   "id": "f6bdb0673a1af59b",
   "outputs": [
    {
     "name": "stdout",
     "output_type": "stream",
     "text": [
      "['ECPRQX', 'AWXLSG', 'YZCEHN', 'QJTFQZ', 'JSWG']\n"
     ]
    }
   ],
   "execution_count": 8
  },
  {
   "metadata": {
    "ExecuteTime": {
     "end_time": "2025-02-25T23:14:06.173474Z",
     "start_time": "2025-02-25T23:14:06.164615Z"
    }
   },
   "cell_type": "code",
   "source": [
    "def encrypt_Vigenere(message, key):\n",
    "    cipher_list = encrypt_sub_messages(message, key)\n",
    "    cipher_text = ''.join(cipher_list).lower()\n",
    "    list_chars = list(message)\n",
    "    for i in range(len(list_chars)):\n",
    "        if not list_chars[i].isalpha():\n",
    "            cipher_text = cipher_text[:i] + list_chars[i] + cipher_text[i:]\n",
    "            list_chars[i] = '-'\n",
    "        if list_chars[i].isupper():\n",
    "            cipher_text = cipher_text[:i] + cipher_text[i].upper() + cipher_text[i+1:]\n",
    "            \n",
    "    return cipher_text"
   ],
   "id": "6945a116187b88c",
   "outputs": [],
   "execution_count": 9
  },
  {
   "metadata": {
    "ExecuteTime": {
     "end_time": "2025-02-25T23:14:06.209256Z",
     "start_time": "2025-02-25T23:14:06.202229Z"
    }
   },
   "cell_type": "code",
   "source": [
    "cipher_text = encrypt_Vigenere(message, key)\n",
    "print(cipher_text)"
   ],
   "id": "a9d4bd6ea4a2f707",
   "outputs": [
    {
     "name": "stdout",
     "output_type": "stream",
     "text": [
      "Ec prqx aw Xlsgy Zce Hnq jtfq zjswg 1362\n"
     ]
    }
   ],
   "execution_count": 10
  },
  {
   "metadata": {
    "ExecuteTime": {
     "end_time": "2025-02-25T23:14:06.247063Z",
     "start_time": "2025-02-25T23:14:06.240150Z"
    }
   },
   "cell_type": "code",
   "source": [
    "def decrypt_sub_messages(cipher_text, key):\n",
    "    table_Vigenere = generate_table_Vigenere(key)\n",
    "    split_ciphertext_list = split_message(cipher_text, key)\n",
    "    plaintext_list = []\n",
    "    \n",
    "    for sub_ciphertext in split_ciphertext_list:\n",
    "        sub_plaintext = ''\n",
    "        for char in sub_ciphertext:\n",
    "            index_row = sub_ciphertext.index(char) + 1\n",
    "            index_col = table_Vigenere[index_row].index(char)\n",
    "            plaintext_char = table_Vigenere[0][index_col]\n",
    "            sub_ciphertext = sub_ciphertext.replace(char, '-', 1)\n",
    "            sub_plaintext += plaintext_char\n",
    "            \n",
    "        plaintext_list.append(sub_plaintext)\n",
    "    \n",
    "    return plaintext_list"
   ],
   "id": "e4e98d846e6684e3",
   "outputs": [],
   "execution_count": 11
  },
  {
   "metadata": {
    "ExecuteTime": {
     "end_time": "2025-02-25T23:14:06.282220Z",
     "start_time": "2025-02-25T23:14:06.275522Z"
    }
   },
   "cell_type": "code",
   "source": [
    "sub_messages = decrypt_sub_messages(cipher_text, key)\n",
    "print(sub_messages)"
   ],
   "id": "96f7909607d57aeb",
   "outputs": [
    {
     "name": "stdout",
     "output_type": "stream",
     "text": [
      "['MYNAME', 'ISVUON', 'GVANDU', 'YFROMG', 'ROUP']\n"
     ]
    }
   ],
   "execution_count": 12
  },
  {
   "metadata": {
    "ExecuteTime": {
     "end_time": "2025-02-25T23:14:06.401988Z",
     "start_time": "2025-02-25T23:14:06.387441Z"
    }
   },
   "cell_type": "code",
   "source": [
    "def decrypt_Vigenere(cipher_text, key):\n",
    "    plaintext_list = decrypt_sub_messages(cipher_text, key)\n",
    "    plaintext = ''.join(plaintext_list).lower()\n",
    "    list_chars = list(cipher_text)\n",
    "    for i in range(len(list_chars)):\n",
    "        if not list_chars[i].isalpha():\n",
    "            plaintext = plaintext[:i] + list_chars[i] + plaintext[i:]\n",
    "            list_chars[i] = '-'\n",
    "        if list_chars[i].isupper():\n",
    "            plaintext = plaintext[:i] + plaintext[i].upper() + plaintext[i+1:]\n",
    "            \n",
    "    return plaintext"
   ],
   "id": "3c27b4f649a57bf4",
   "outputs": [],
   "execution_count": 13
  },
  {
   "metadata": {
    "ExecuteTime": {
     "end_time": "2025-02-25T23:14:06.444676Z",
     "start_time": "2025-02-25T23:14:06.435232Z"
    }
   },
   "cell_type": "code",
   "source": [
    "plaintext = decrypt_Vigenere(cipher_text, key)\n",
    "print(plaintext)"
   ],
   "id": "240bb5e40c7a20b3",
   "outputs": [
    {
     "name": "stdout",
     "output_type": "stream",
     "text": [
      "My name is Vuong Van Duy from group 1362\n"
     ]
    }
   ],
   "execution_count": 14
  },
  {
   "metadata": {
    "ExecuteTime": {
     "end_time": "2025-02-25T23:17:52.488649Z",
     "start_time": "2025-02-25T23:17:52.465443Z"
    }
   },
   "cell_type": "code",
   "source": [
    "# in toàn bộ kết quả ra file text\n",
    "with open('output_cipher/output_Vigenere.txt', 'w') as f:\n",
    "    f.write('Message: ' + message + '\\n')\n",
    "    f.write('Key: ' + key + '\\n')\n",
    "    # in bảng ma trận Vigenere ra file\n",
    "    f.write('Vigenere Table:\\n')\n",
    "    df.to_string(f, index=False, header=False)\n",
    "    f.write('\\n\\n')\n",
    "    f.write(f'Encryption process.\\n')\n",
    "    # in từng phần của message ra file\n",
    "    f.write('Sub Messages:\\n')\n",
    "    for sub_msg in sub_messages:\n",
    "        f.write(sub_msg + '\\n')\n",
    "    f.write('\\n')\n",
    "    # in từng phần của cipher text ra file\n",
    "    f.write('Sub Cipher Texts:\\n')\n",
    "    for sub_cipher in sub_cipher_texts:\n",
    "        f.write(sub_cipher + '\\n')\n",
    "    f.write('\\n')\n",
    "    # in cipher text ra file\n",
    "    f.write(f'Cipher Text: {cipher_text}\\n')\n",
    "    f.write('\\n')\n",
    "    f.write(f'Decryption process.\\n')\n",
    "    # in từng phần của cipher text ra file\n",
    "    f.write('Sub Cipher Texts:\\n')\n",
    "    for sub_cipher in sub_cipher_texts:\n",
    "        f.write(sub_cipher + '\\n')\n",
    "    f.write('\\n')\n",
    "    # in từng phần của plaintext ra file\n",
    "    f.write('Sub Plaintexts:\\n')\n",
    "    for sub_msg in sub_messages:\n",
    "        f.write(sub_msg + '\\n')\n",
    "    f.write('\\n')\n",
    "    # in plaintext ra file\n",
    "    f.write(f'Plaintext: {plaintext}\\n')"
   ],
   "id": "785c4b33aeefe538",
   "outputs": [],
   "execution_count": 17
  }
 ],
 "metadata": {
  "kernelspec": {
   "display_name": "Python 3",
   "language": "python",
   "name": "python3"
  },
  "language_info": {
   "codemirror_mode": {
    "name": "ipython",
    "version": 2
   },
   "file_extension": ".py",
   "mimetype": "text/x-python",
   "name": "python",
   "nbconvert_exporter": "python",
   "pygments_lexer": "ipython2",
   "version": "2.7.6"
  }
 },
 "nbformat": 4,
 "nbformat_minor": 5
}
