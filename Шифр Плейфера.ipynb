{
 "cells": [
  {
   "cell_type": "code",
   "id": "initial_id",
   "metadata": {
    "collapsed": true,
    "ExecuteTime": {
     "end_time": "2025-02-21T21:06:21.646643Z",
     "start_time": "2025-02-21T21:06:21.637295Z"
    }
   },
   "source": [
    "from pyexpat.errors import messages\n",
    "\n",
    "alphabet = 'ABCDEFGHIKLMNOPQRSTUVWXYZ'\n",
    "message = 'HELLO WORLDDXX'\n",
    "key_word = 'SECRET'"
   ],
   "outputs": [],
   "execution_count": 488
  },
  {
   "metadata": {
    "ExecuteTime": {
     "end_time": "2025-02-21T21:06:21.700478Z",
     "start_time": "2025-02-21T21:06:21.692245Z"
    }
   },
   "cell_type": "code",
   "source": [
    "def set_key_word(key_word):\n",
    "    key_word_fix = []\n",
    "    for char in key_word:\n",
    "        if char not in key_word_fix and char in alphabet:\n",
    "            key_word_fix.append(char)\n",
    "    \n",
    "    return key_word_fix"
   ],
   "id": "44e339293e016277",
   "outputs": [],
   "execution_count": 489
  },
  {
   "metadata": {
    "ExecuteTime": {
     "end_time": "2025-02-21T21:06:21.769668Z",
     "start_time": "2025-02-21T21:06:21.753142Z"
    }
   },
   "cell_type": "code",
   "source": "set_key_word(key_word)",
   "id": "a138c4b539a042b9",
   "outputs": [
    {
     "data": {
      "text/plain": [
       "['S', 'E', 'C', 'R', 'T']"
      ]
     },
     "execution_count": 490,
     "metadata": {},
     "output_type": "execute_result"
    }
   ],
   "execution_count": 490
  },
  {
   "metadata": {
    "ExecuteTime": {
     "end_time": "2025-02-21T21:06:21.885641Z",
     "start_time": "2025-02-21T21:06:21.876114Z"
    }
   },
   "cell_type": "code",
   "source": [
    "def get_encrypt_matrix(key_word):\n",
    "    key_word = set_key_word(key_word)\n",
    "    matrix = [['-' for i in range(5)] for j in range(5)]\n",
    "    buffers = key_word\n",
    "    for char in alphabet:\n",
    "        if char not in key_word:\n",
    "            buffers += char\n",
    "    \n",
    "    for i in range(5):\n",
    "        for j in range(5):\n",
    "            if i*5 + j < len(buffers):\n",
    "                matrix[i][j] = buffers[i*5+j]\n",
    "    \n",
    "    return matrix"
   ],
   "id": "2c36f8860d38bab8",
   "outputs": [],
   "execution_count": 491
  },
  {
   "metadata": {
    "ExecuteTime": {
     "end_time": "2025-02-21T21:06:21.928879Z",
     "start_time": "2025-02-21T21:06:21.919254Z"
    }
   },
   "cell_type": "code",
   "source": [
    "encrypt_matrix = get_encrypt_matrix(key_word)\n",
    "for i in range(len(encrypt_matrix)):\n",
    "    for j in range(len(encrypt_matrix[0])):\n",
    "        print(encrypt_matrix[i][j], end=' ')\n",
    "    print()"
   ],
   "id": "631f536f882f9023",
   "outputs": [
    {
     "name": "stdout",
     "output_type": "stream",
     "text": [
      "S E C R T \n",
      "A B D F G \n",
      "H I K L M \n",
      "N O P Q U \n",
      "V W X Y Z \n"
     ]
    }
   ],
   "execution_count": 492
  },
  {
   "metadata": {
    "ExecuteTime": {
     "end_time": "2025-02-21T21:06:22.002765Z",
     "start_time": "2025-02-21T21:06:21.959110Z"
    }
   },
   "cell_type": "code",
   "source": [
    "# in ra file excel\n",
    "import pandas as pd\n",
    "\n",
    "df = pd.DataFrame(encrypt_matrix)\n",
    "df.to_excel('output/output_playfair.xlsx', index=False, header=False)"
   ],
   "id": "40e40a8940940f79",
   "outputs": [],
   "execution_count": 493
  },
  {
   "metadata": {
    "ExecuteTime": {
     "end_time": "2025-02-21T21:06:22.029774Z",
     "start_time": "2025-02-21T21:06:22.019407Z"
    }
   },
   "cell_type": "code",
   "source": [
    "def pre_format_message(message):\n",
    "    message = message.upper()\n",
    "    for char in message:\n",
    "        if char not in alphabet:\n",
    "            message = message.replace(char, '')\n",
    "           \n",
    "    for i in range(0, len(message), 2):\n",
    "        if i + 1 >= len(message):\n",
    "            break\n",
    "        if message[i] == message[i+1]:\n",
    "            message = message[:i+1] + 'X' + message[i+1:]\n",
    "       \n",
    "    if len(message) % 2 != 0:\n",
    "        message += 'X'\n",
    "            \n",
    "    return message"
   ],
   "id": "1a93d45bb6978c7d",
   "outputs": [],
   "execution_count": 494
  },
  {
   "metadata": {
    "ExecuteTime": {
     "end_time": "2025-02-21T21:06:22.061804Z",
     "start_time": "2025-02-21T21:06:22.050084Z"
    }
   },
   "cell_type": "code",
   "source": "pre_format_message(message)",
   "id": "284a90dc87133245",
   "outputs": [
    {
     "data": {
      "text/plain": [
       "'HELXLOWORLDXDXXX'"
      ]
     },
     "execution_count": 495,
     "metadata": {},
     "output_type": "execute_result"
    }
   ],
   "execution_count": 495
  },
  {
   "metadata": {
    "ExecuteTime": {
     "end_time": "2025-02-21T21:06:22.123356Z",
     "start_time": "2025-02-21T21:06:22.119358Z"
    }
   },
   "cell_type": "code",
   "source": "",
   "id": "e899310b9c9361fa",
   "outputs": [],
   "execution_count": null
  }
 ],
 "metadata": {
  "kernelspec": {
   "display_name": "Python 3",
   "language": "python",
   "name": "python3"
  },
  "language_info": {
   "codemirror_mode": {
    "name": "ipython",
    "version": 2
   },
   "file_extension": ".py",
   "mimetype": "text/x-python",
   "name": "python",
   "nbconvert_exporter": "python",
   "pygments_lexer": "ipython2",
   "version": "2.7.6"
  }
 },
 "nbformat": 4,
 "nbformat_minor": 5
}
