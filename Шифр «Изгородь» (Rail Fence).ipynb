{
 "nbformat": 4,
 "nbformat_minor": 0,
 "metadata": {
  "colab": {
   "provenance": [],
   "authorship_tag": "ABX9TyPpQ5YRretBQl1MgDs6gr34"
  },
  "kernelspec": {
   "name": "python3",
   "display_name": "Python 3 (ipykernel)",
   "language": "python"
  },
  "language_info": {
   "name": "python"
  }
 },
 "cells": [
  {
   "cell_type": "markdown",
   "source": [
    "# 1. Шифр «Изгородь» (Rail Fence)"
   ],
   "metadata": {
    "id": "tBHuY6LDozs6"
   }
  },
  {
   "cell_type": "code",
   "source": [
    "#message = 'My name is Vuong Van Duy'\n",
    "message = 'Vuong_Van_Duy'\n",
    "num_rows = 4\n",
    "offset = 3\n",
    "char_offset = '#'"
   ],
   "metadata": {
    "id": "T2zgqnei6vN-",
    "executionInfo": {
     "status": "ok",
     "timestamp": 1739629300132,
     "user_tz": -180,
     "elapsed": 464,
     "user": {
      "displayName": "Duy Vương",
      "userId": "12461555443532234114"
     }
    },
    "ExecuteTime": {
     "end_time": "2025-02-25T22:35:37.113309Z",
     "start_time": "2025-02-25T22:35:37.105273Z"
    }
   },
   "outputs": [],
   "execution_count": 79
  },
  {
   "cell_type": "code",
   "metadata": {
    "id": "IgBlUeoXorIy",
    "executionInfo": {
     "status": "ok",
     "timestamp": 1739629303381,
     "user_tz": -180,
     "elapsed": 47,
     "user": {
      "displayName": "Duy Vương",
      "userId": "12461555443532234114"
     }
    },
    "ExecuteTime": {
     "end_time": "2025-02-25T22:35:37.149196Z",
     "start_time": "2025-02-25T22:35:37.140193Z"
    }
   },
   "source": [
    "# Encrypt\n",
    "def encrypt_rail_fence_matrix(message, num_rows, offset=0):\n",
    "    message = char_offset * offset + message\n",
    "    matrix = [['' for _ in range(len(message))] for _ in range(num_rows)]\n",
    "\n",
    "    row, direction = 0, 1\n",
    "\n",
    "    for j, alphabet in enumerate(message):\n",
    "        matrix[row][j] = alphabet\n",
    "\n",
    "        if row == 0:\n",
    "            direction = 1 # Đi xuống\n",
    "        elif row == num_rows - 1:\n",
    "            direction = -1 # Đi lên\n",
    "\n",
    "        row += direction  # Cập nhật vị trí hàng tiếp theo\n",
    "\n",
    "    return matrix"
   ],
   "outputs": [],
   "execution_count": 80
  },
  {
   "cell_type": "code",
   "source": [
    "rail_fence_matrix = encrypt_rail_fence_matrix(message, num_rows, offset)\n",
    "\n",
    "for i in range(len(rail_fence_matrix)):\n",
    "  for j in range(len(rail_fence_matrix[0])):\n",
    "    if not rail_fence_matrix[i][j]:\n",
    "        print(' ', end=' ')\n",
    "    else:\n",
    "        print(rail_fence_matrix[i][j], end=' ')\n",
    "  print()"
   ],
   "metadata": {
    "colab": {
     "base_uri": "https://localhost:8080/"
    },
    "id": "IKmLxLPB6y8Y",
    "executionInfo": {
     "status": "ok",
     "timestamp": 1739629303381,
     "user_tz": -180,
     "elapsed": 46,
     "user": {
      "displayName": "Duy Vương",
      "userId": "12461555443532234114"
     }
    },
    "outputId": "8ee6f0ae-a1b2-4e2c-9c6b-61e4720cf10b",
    "ExecuteTime": {
     "end_time": "2025-02-25T22:35:37.213644Z",
     "start_time": "2025-02-25T22:35:37.203078Z"
    }
   },
   "outputs": [
    {
     "name": "stdout",
     "output_type": "stream",
     "text": [
      "#           n           _       \n",
      "  #       o   g       n   D     \n",
      "    #   u       _   a       u   \n",
      "      V           V           y \n"
     ]
    }
   ],
   "execution_count": 81
  },
  {
   "cell_type": "code",
   "source": [
    "import pandas as pd\n",
    "df = pd.DataFrame(rail_fence_matrix)\n",
    "\n",
    "# Lưu vào file Excel\n",
    "df.to_excel(\"output/output_rail_fence.xlsx\", index=False, header=False)"
   ],
   "metadata": {
    "id": "NhIEnYP7sD9k",
    "executionInfo": {
     "status": "ok",
     "timestamp": 1739629303382,
     "user_tz": -180,
     "elapsed": 39,
     "user": {
      "displayName": "Duy Vương",
      "userId": "12461555443532234114"
     }
    },
    "ExecuteTime": {
     "end_time": "2025-02-25T22:35:37.269872Z",
     "start_time": "2025-02-25T22:35:37.247894Z"
    }
   },
   "outputs": [],
   "execution_count": 82
  },
  {
   "cell_type": "code",
   "source": [
    "def encrypt_rail_fence(message, num_rows, offset):\n",
    "  matrix_encrypt = encrypt_rail_fence_matrix(message, num_rows, offset)\n",
    "\n",
    "  cipher_text = ''.join([''.join(row) for row in matrix_encrypt]).replace(char_offset, '')\n",
    "\n",
    "  return cipher_text"
   ],
   "metadata": {
    "id": "yfCYxgjFx8ZF",
    "executionInfo": {
     "status": "ok",
     "timestamp": 1739629303382,
     "user_tz": -180,
     "elapsed": 38,
     "user": {
      "displayName": "Duy Vương",
      "userId": "12461555443532234114"
     }
    },
    "ExecuteTime": {
     "end_time": "2025-02-25T22:35:37.301074Z",
     "start_time": "2025-02-25T22:35:37.293910Z"
    }
   },
   "outputs": [],
   "execution_count": 83
  },
  {
   "cell_type": "code",
   "source": [
    "cipher_text = encrypt_rail_fence(message, num_rows, offset)\n",
    "print(cipher_text)"
   ],
   "metadata": {
    "colab": {
     "base_uri": "https://localhost:8080/"
    },
    "id": "ZOsCDjiit5PK",
    "executionInfo": {
     "status": "ok",
     "timestamp": 1739629303382,
     "user_tz": -180,
     "elapsed": 38,
     "user": {
      "displayName": "Duy Vương",
      "userId": "12461555443532234114"
     }
    },
    "outputId": "87c3d79b-b847-4044-d3d9-237cc4a7b26e",
    "ExecuteTime": {
     "end_time": "2025-02-25T22:35:37.327614Z",
     "start_time": "2025-02-25T22:35:37.319942Z"
    }
   },
   "outputs": [
    {
     "name": "stdout",
     "output_type": "stream",
     "text": [
      "n_ognDu_auVVy\n"
     ]
    }
   ],
   "execution_count": 84
  },
  {
   "cell_type": "code",
   "source": [
    "def find_trace_rail_fence_matrix(cipher_text, num_rows, offset):\n",
    "  trace_message = char_offset * offset + '*' * len(cipher_text)\n",
    "  trace_matrix = [['' for _ in range(len(trace_message))] for _ in range(num_rows)]\n",
    "\n",
    "  row, direction = 0, 1\n",
    "\n",
    "  for j, char in enumerate(trace_message):\n",
    "      trace_matrix[row][j] = char\n",
    "\n",
    "      if row == 0:\n",
    "          direction = 1 # Đi xuống\n",
    "      elif row == num_rows - 1:\n",
    "          direction = -1 # Đi lên\n",
    "\n",
    "      row += direction  # Cập nhật vị trí hàng tiếp theo\n",
    "\n",
    "  return trace_matrix"
   ],
   "metadata": {
    "id": "zIRlZXo24A8-",
    "executionInfo": {
     "status": "ok",
     "timestamp": 1739629303383,
     "user_tz": -180,
     "elapsed": 34,
     "user": {
      "displayName": "Duy Vương",
      "userId": "12461555443532234114"
     }
    },
    "ExecuteTime": {
     "end_time": "2025-02-25T22:35:37.355856Z",
     "start_time": "2025-02-25T22:35:37.348797Z"
    }
   },
   "outputs": [],
   "execution_count": 85
  },
  {
   "cell_type": "code",
   "source": [
    "trace_matrix = find_trace_rail_fence_matrix(cipher_text, num_rows, offset)\n",
    "for i in range(len(trace_matrix)):\n",
    "  for j in range(len(trace_matrix[0])):\n",
    "    if not trace_matrix[i][j]:\n",
    "        print(' ', end=' ')\n",
    "    else:\n",
    "        print(trace_matrix[i][j], end=' ')\n",
    "  print()"
   ],
   "metadata": {
    "colab": {
     "base_uri": "https://localhost:8080/"
    },
    "id": "9d-qjFJy4Wc_",
    "executionInfo": {
     "status": "ok",
     "timestamp": 1739629303383,
     "user_tz": -180,
     "elapsed": 33,
     "user": {
      "displayName": "Duy Vương",
      "userId": "12461555443532234114"
     }
    },
    "outputId": "e1159756-ff8a-4b95-b2af-cb8420ddc2dd",
    "ExecuteTime": {
     "end_time": "2025-02-25T22:35:37.393906Z",
     "start_time": "2025-02-25T22:35:37.384455Z"
    }
   },
   "outputs": [
    {
     "name": "stdout",
     "output_type": "stream",
     "text": [
      "#           *           *       \n",
      "  #       *   *       *   *     \n",
      "    #   *       *   *       *   \n",
      "      *           *           * \n"
     ]
    }
   ],
   "execution_count": 86
  },
  {
   "cell_type": "code",
   "source": [
    "def decrypt_rail_fence_matrix(cipher_text, num_rows, offset):\n",
    "  trace_matrix = find_trace_rail_fence_matrix(cipher_text, num_rows, offset)\n",
    "\n",
    "  id = 0\n",
    "  for i in range(len(trace_matrix)):\n",
    "    for j in range(len(trace_matrix[0])):\n",
    "      if trace_matrix[i][j] == '*':\n",
    "        trace_matrix[i][j] = cipher_text[id]\n",
    "        id += 1\n",
    "\n",
    "  return trace_matrix"
   ],
   "metadata": {
    "id": "kKW5fqLV5Uur",
    "executionInfo": {
     "status": "ok",
     "timestamp": 1739629303384,
     "user_tz": -180,
     "elapsed": 29,
     "user": {
      "displayName": "Duy Vương",
      "userId": "12461555443532234114"
     }
    },
    "ExecuteTime": {
     "end_time": "2025-02-25T22:35:37.439140Z",
     "start_time": "2025-02-25T22:35:37.432263Z"
    }
   },
   "outputs": [],
   "execution_count": 87
  },
  {
   "cell_type": "code",
   "source": [
    "decrypt_matrix = decrypt_rail_fence_matrix(cipher_text, num_rows, offset)\n",
    "for i in range(len(decrypt_matrix)):\n",
    "  for j in range(len(decrypt_matrix[0])):\n",
    "    if not decrypt_matrix[i][j]:\n",
    "        print(' ', end=' ')\n",
    "    else:\n",
    "        print(decrypt_matrix[i][j], end=' ')\n",
    "  print()"
   ],
   "metadata": {
    "colab": {
     "base_uri": "https://localhost:8080/"
    },
    "id": "YoZDY4aC70r_",
    "executionInfo": {
     "status": "ok",
     "timestamp": 1739629303384,
     "user_tz": -180,
     "elapsed": 27,
     "user": {
      "displayName": "Duy Vương",
      "userId": "12461555443532234114"
     }
    },
    "outputId": "6e386f67-8856-44ae-ceae-a9cf9e15709b",
    "ExecuteTime": {
     "end_time": "2025-02-25T22:35:37.478612Z",
     "start_time": "2025-02-25T22:35:37.469553Z"
    }
   },
   "outputs": [
    {
     "name": "stdout",
     "output_type": "stream",
     "text": [
      "#           n           _       \n",
      "  #       o   g       n   D     \n",
      "    #   u       _   a       u   \n",
      "      V           V           y \n"
     ]
    }
   ],
   "execution_count": 88
  },
  {
   "cell_type": "code",
   "source": [
    "def decrypt_rail_fence(cipher_text, num_rows, offset):\n",
    "  matrix = decrypt_rail_fence_matrix(cipher_text, num_rows, offset)\n",
    "\n",
    "  plain_text = ''\n",
    "  row, direction = 0, 1\n",
    "\n",
    "  for j in range(len(matrix[0])):\n",
    "    plain_text += matrix[row][j] if matrix[row][j] != char_offset else ''\n",
    "\n",
    "    if row == 0:\n",
    "        direction = 1 # Đi xuống\n",
    "    elif row == num_rows - 1:\n",
    "        direction = -1 # Đi lên\n",
    "\n",
    "    row += direction  # Cập nhật vị trí hàng tiếp theo\n",
    "\n",
    "  return plain_text"
   ],
   "metadata": {
    "id": "JA3kHO9J7nHg",
    "executionInfo": {
     "status": "ok",
     "timestamp": 1739629303384,
     "user_tz": -180,
     "elapsed": 24,
     "user": {
      "displayName": "Duy Vương",
      "userId": "12461555443532234114"
     }
    },
    "ExecuteTime": {
     "end_time": "2025-02-25T22:35:37.516508Z",
     "start_time": "2025-02-25T22:35:37.508163Z"
    }
   },
   "outputs": [],
   "execution_count": 89
  },
  {
   "cell_type": "code",
   "source": [
    "plain_text = decrypt_rail_fence(cipher_text, num_rows, offset)\n",
    "print(plain_text)"
   ],
   "metadata": {
    "colab": {
     "base_uri": "https://localhost:8080/"
    },
    "id": "Ym1STFdC6piL",
    "executionInfo": {
     "status": "ok",
     "timestamp": 1739629303384,
     "user_tz": -180,
     "elapsed": 23,
     "user": {
      "displayName": "Duy Vương",
      "userId": "12461555443532234114"
     }
    },
    "outputId": "c02ef035-dfd6-4f3f-ee3d-156c6c995cfb",
    "ExecuteTime": {
     "end_time": "2025-02-25T22:35:37.551828Z",
     "start_time": "2025-02-25T22:35:37.540610Z"
    }
   },
   "outputs": [
    {
     "name": "stdout",
     "output_type": "stream",
     "text": [
      "Vuong_Van_Duy\n"
     ]
    }
   ],
   "execution_count": 90
  },
  {
   "cell_type": "code",
   "source": [
    "# Предположим, что из утечки мы узнаем, что значение «смещения» < 10\n",
    "\n",
    "def atack_brute_force_rail_fence(cipher_text):\n",
    "  results = []\n",
    "\n",
    "  for i in range(2, len(cipher_text)):\n",
    "    for j in range(20):\n",
    "      plain_text = decrypt_rail_fence(cipher_text, i, j)\n",
    "      results.append(((i , j), plain_text))\n",
    "\n",
    "  return results"
   ],
   "metadata": {
    "id": "yya4GfHaCsde",
    "executionInfo": {
     "status": "ok",
     "timestamp": 1739629303385,
     "user_tz": -180,
     "elapsed": 21,
     "user": {
      "displayName": "Duy Vương",
      "userId": "12461555443532234114"
     }
    },
    "ExecuteTime": {
     "end_time": "2025-02-25T22:35:37.606311Z",
     "start_time": "2025-02-25T22:35:37.597947Z"
    }
   },
   "outputs": [],
   "execution_count": 91
  },
  {
   "cell_type": "code",
   "source": [
    "for i in atack_brute_force_rail_fence(cipher_text):\n",
    "  print(i)"
   ],
   "metadata": {
    "colab": {
     "base_uri": "https://localhost:8080/"
    },
    "id": "TdN7iSe7ECKR",
    "executionInfo": {
     "status": "ok",
     "timestamp": 1739629303385,
     "user_tz": -180,
     "elapsed": 20,
     "user": {
      "displayName": "Duy Vương",
      "userId": "12461555443532234114"
     }
    },
    "outputId": "f1a15b10-1246-4129-82ed-b42a03c32e70",
    "ExecuteTime": {
     "end_time": "2025-02-25T22:35:37.647265Z",
     "start_time": "2025-02-25T22:35:37.632337Z"
    }
   },
   "outputs": [
    {
     "name": "stdout",
     "output_type": "stream",
     "text": [
      "((2, 0), 'n__aougVnVDyu')\n",
      "((2, 1), 'un__aougVnVDy')\n",
      "((2, 2), 'n__aougVnVDyu')\n",
      "((2, 3), 'un__aougVnVDy')\n",
      "((2, 4), 'n__aougVnVDyu')\n",
      "((2, 5), 'un__aougVnVDy')\n",
      "((2, 6), 'n__aougVnVDyu')\n",
      "((2, 7), 'un__aougVnVDy')\n",
      "((2, 8), 'n__aougVnVDyu')\n",
      "((2, 9), 'un__aougVnVDy')\n",
      "((2, 10), 'n__aougVnVDyu')\n",
      "((2, 11), 'un__aougVnVDy')\n",
      "((2, 12), 'n__aougVnVDyu')\n",
      "((2, 13), 'un__aougVnVDy')\n",
      "((2, 14), 'n__aougVnVDyu')\n",
      "((2, 15), 'un__aougVnVDy')\n",
      "((2, 16), 'n__aougVnVDyu')\n",
      "((2, 17), 'un__aougVnVDy')\n",
      "((2, 18), 'n__aougVnVDyu')\n",
      "((2, 19), 'un__aougVnVDy')\n",
      "((3, 0), 'nnVD_uV_oayug')\n",
      "((3, 1), 'gVnnDVu__yaou')\n",
      "((3, 2), 'ugnnVD_uV_oay')\n",
      "((3, 3), 'gnnVD_uV_oayu')\n",
      "((3, 4), 'nnVD_uV_oayug')\n",
      "((3, 5), 'gVnnDVu__yaou')\n",
      "((3, 6), 'ugnnVD_uV_oay')\n",
      "((3, 7), 'gnnVD_uV_oayu')\n",
      "((3, 8), 'nnVD_uV_oayug')\n",
      "((3, 9), 'gVnnDVu__yaou')\n",
      "((3, 10), 'ugnnVD_uV_oay')\n",
      "((3, 11), 'gnnVD_uV_oayu')\n",
      "((3, 12), 'nnVD_uV_oayug')\n",
      "((3, 13), 'gVnnDVu__yaou')\n",
      "((3, 14), 'ugnnVD_uV_oay')\n",
      "((3, 15), 'gnnVD_uV_oayu')\n",
      "((3, 16), 'nnVD_uV_oayug')\n",
      "((3, 17), 'gVnnDVu__yaou')\n",
      "((3, 18), 'ugnnVD_uV_oay')\n",
      "((3, 19), 'gnnVD_uV_oayu')\n",
      "((4, 0), 'ng_Van_DuyVuo')\n",
      "((4, 1), 'o_VagnnuyVD_u')\n",
      "((4, 2), 'uV_ongayun_DV')\n",
      "((4, 3), 'Vuong_Van_Duy')\n",
      "((4, 4), 'uong_Van_DuyV')\n",
      "((4, 5), 'ong_Van_DuyVu')\n",
      "((4, 6), 'ng_Van_DuyVuo')\n",
      "((4, 7), 'o_VagnnuyVD_u')\n",
      "((4, 8), 'uV_ongayun_DV')\n",
      "((4, 9), 'Vuong_Van_Duy')\n",
      "((4, 10), 'uong_Van_DuyV')\n",
      "((4, 11), 'ong_Van_DuyVu')\n",
      "((4, 12), 'ng_Van_DuyVuo')\n",
      "((4, 13), 'o_VagnnuyVD_u')\n",
      "((4, 14), 'uV_ongayun_DV')\n",
      "((4, 15), 'Vuong_Van_Duy')\n",
      "((4, 16), 'uong_Van_DuyV')\n",
      "((4, 17), 'ong_Van_DuyVu')\n",
      "((4, 18), 'ng_Van_DuyVuo')\n",
      "((4, 19), 'o_VagnnuyVD_u')\n",
      "((5, 0), 'noDaVuug_n_Vy')\n",
      "((5, 1), '_n_VaDonguuyV')\n",
      "((5, 2), 'g_Van_noDuyVu')\n",
      "((5, 3), '_Van_noDuyVug')\n",
      "((5, 4), 'VaDonguuyV_n_')\n",
      "((5, 5), 'uuong_VyVan_D')\n",
      "((5, 6), 'uong_VyVan_Du')\n",
      "((5, 7), 'onguuyV_n_DaV')\n",
      "((5, 8), 'noDaVuug_n_Vy')\n",
      "((5, 9), '_n_VaDonguuyV')\n",
      "((5, 10), 'g_Van_noDuyVu')\n",
      "((5, 11), '_Van_noDuyVug')\n",
      "((5, 12), 'VaDonguuyV_n_')\n",
      "((5, 13), 'uuong_VyVan_D')\n",
      "((5, 14), 'uong_VyVan_Du')\n",
      "((5, 15), 'onguuyV_n_DaV')\n",
      "((5, 16), 'noDaVuug_n_Vy')\n",
      "((5, 17), '_n_VaDonguuyV')\n",
      "((5, 18), 'g_Van_noDuyVu')\n",
      "((5, 19), '_Van_noDuyVug')\n",
      "((6, 0), 'noDaVyVuug_n_')\n",
      "((6, 1), '_n_VyVaDonguu')\n",
      "((6, 2), 'guuyV_n_noDaV')\n",
      "((6, 3), 'DaVuug_non_Vy')\n",
      "((6, 4), '_VaDg_nonuuyV')\n",
      "((6, 5), 'VaDg_nonuuyV_')\n",
      "((6, 6), 'uug_non_VyVaD')\n",
      "((6, 7), '_n_noDaVyVuug')\n",
      "((6, 8), 'DonguaVyVu_n_')\n",
      "((6, 9), 'onguaVyVu_n_D')\n",
      "((6, 10), 'noDaVyVuug_n_')\n",
      "((6, 11), '_n_VyVaDonguu')\n",
      "((6, 12), 'guuyV_n_noDaV')\n",
      "((6, 13), 'DaVuug_non_Vy')\n",
      "((6, 14), '_VaDg_nonuuyV')\n",
      "((6, 15), 'VaDg_nonuuyV_')\n",
      "((6, 16), 'uug_non_VyVaD')\n",
      "((6, 17), '_n_noDaVyVuug')\n",
      "((6, 18), 'DonguaVyVu_n_')\n",
      "((6, 19), 'onguaVyVu_n_D')\n",
      "((7, 0), 'nonuaVyVu_Dg_')\n",
      "((7, 1), '_nuaVyVu_Dong')\n",
      "((7, 2), 'guaVyVu_n_noD')\n",
      "((7, 3), 'DaVyVuug_non_')\n",
      "((7, 4), '_VyVaDg_nonuu')\n",
      "((7, 5), 'uyV_Dg_nonuaV')\n",
      "((7, 6), 'Vu_Dg_nonuaVy')\n",
      "((7, 7), 'u_Dg_nonuaVyV')\n",
      "((7, 8), '_Dg_nonuaVyVu')\n",
      "((7, 9), 'Dg_nonuaVyVu_')\n",
      "((7, 10), 'g_nonuaVyVu_D')\n",
      "((7, 11), '_nonuaVyVu_Dg')\n",
      "((7, 12), 'nonuaVyVu_Dg_')\n",
      "((7, 13), '_nuaVyVu_Dong')\n",
      "((7, 14), 'guaVyVu_n_noD')\n",
      "((7, 15), 'DaVyVuug_non_')\n",
      "((7, 16), '_VyVaDg_nonuu')\n",
      "((7, 17), 'uyV_Dg_nonuaV')\n",
      "((7, 18), 'Vu_Dg_nonuaVy')\n",
      "((7, 19), 'u_Dg_nonuaVyV')\n",
      "((8, 0), 'n_onuaVyVu_Dg')\n",
      "((8, 1), 'nonuaVyVu_Dg_')\n",
      "((8, 2), 'onuaVyVu_Dg_n')\n",
      "((8, 3), 'nuaVyVu_Dg_no')\n",
      "((8, 4), 'uaVyVu_Dg_non')\n",
      "((8, 5), 'aVyVu_Dg_nonu')\n",
      "((8, 6), 'VyVu_Dg_nonua')\n",
      "((8, 7), 'yVu_Dg_nonuaV')\n",
      "((8, 8), 'Vu_Dg_nonuaVy')\n",
      "((8, 9), 'u_Dg_nonuaVVy')\n",
      "((8, 10), '_Dg_nonuauVyV')\n",
      "((8, 11), 'Dg_nonu_aVyVu')\n",
      "((8, 12), 'g_nonDuaVyVu_')\n",
      "((8, 13), '_nognuaVyVu_D')\n",
      "((8, 14), 'n_onuaVyVu_Dg')\n",
      "((8, 15), 'nonuaVyVu_Dg_')\n",
      "((8, 16), 'onuaVyVu_Dg_n')\n",
      "((8, 17), 'nuaVyVu_Dg_no')\n",
      "((8, 18), 'uaVyVu_Dg_non')\n",
      "((8, 19), 'aVyVu_Dg_nonu')\n",
      "((9, 0), 'n_ognuaVyVu_D')\n",
      "((9, 1), 'n_onuaVyVu_Dg')\n",
      "((9, 2), 'nonuaVyVu_Dg_')\n",
      "((9, 3), 'onuaVyVu_Dg_n')\n",
      "((9, 4), 'nuaVyVu_Dgo_n')\n",
      "((9, 5), 'uaVyVu_Dng_no')\n",
      "((9, 6), 'aVyVu_uDg_non')\n",
      "((9, 7), 'VyVua_Dg_nonu')\n",
      "((9, 8), 'yVVu_Dg_nonua')\n",
      "((9, 9), 'yVu_Dg_nonuaV')\n",
      "((9, 10), 'Vu_Dg_nonuaVy')\n",
      "((9, 11), 'u_Dg_nonuaVVy')\n",
      "((9, 12), '_Dg_nonuauVVy')\n",
      "((9, 13), 'Dg_nonu_auVyV')\n",
      "((9, 14), 'g_nonDu_aVyVu')\n",
      "((9, 15), '_nognDuaVyVu_')\n",
      "((9, 16), 'n_ognuaVyVu_D')\n",
      "((9, 17), 'n_onuaVyVu_Dg')\n",
      "((9, 18), 'nonuaVyVu_Dg_')\n",
      "((9, 19), 'onuaVyVu_Dg_n')\n",
      "((10, 0), 'n_ognDuaVyVu_')\n",
      "((10, 1), 'n_ognuaVyVu_D')\n",
      "((10, 2), 'n_onuaVyVu_Dg')\n",
      "((10, 3), 'nonuaVyVu_Dg_')\n",
      "((10, 4), 'onuaVyVu_Dg_n')\n",
      "((10, 5), 'nuaVyVu_Dgo_n')\n",
      "((10, 6), 'uaVyVu_Dngo_n')\n",
      "((10, 7), 'aVyVu_uDng_no')\n",
      "((10, 8), 'VyVua_uDg_non')\n",
      "((10, 9), 'yVVua_Dg_nonu')\n",
      "((10, 10), 'yVVu_Dg_nonua')\n",
      "((10, 11), 'yVu_Dg_nonuaV')\n",
      "((10, 12), 'Vu_Dg_nonuaVy')\n",
      "((10, 13), 'u_Dg_nonuaVVy')\n",
      "((10, 14), '_Dg_nonuauVVy')\n",
      "((10, 15), 'Dg_nonu_auVVy')\n",
      "((10, 16), 'g_nonDu_auVyV')\n",
      "((10, 17), '_nognDu_aVyVu')\n",
      "((10, 18), 'n_ognDuaVyVu_')\n",
      "((10, 19), 'n_ognuaVyVu_D')\n",
      "((11, 0), 'n_ognDu_aVyVu')\n",
      "((11, 1), 'n_ognDuaVyVu_')\n",
      "((11, 2), 'n_ognuaVyVu_D')\n",
      "((11, 3), 'n_onuaVyVu_Dg')\n",
      "((11, 4), 'nonuaVyVu_Dg_')\n",
      "((11, 5), 'onuaVyVu_Dg_n')\n",
      "((11, 6), 'nuaVyVu_Dgo_n')\n",
      "((11, 7), 'uaVyVu_Dngo_n')\n",
      "((11, 8), 'aVyVu_uDngo_n')\n",
      "((11, 9), 'VyVua_uDng_no')\n",
      "((11, 10), 'yVVua_uDg_non')\n",
      "((11, 11), 'yVVua_Dg_nonu')\n",
      "((11, 12), 'yVVu_Dg_nonua')\n",
      "((11, 13), 'yVu_Dg_nonuaV')\n",
      "((11, 14), 'Vu_Dg_nonuaVy')\n",
      "((11, 15), 'u_Dg_nonuaVVy')\n",
      "((11, 16), '_Dg_nonuauVVy')\n",
      "((11, 17), 'Dg_nonu_auVVy')\n",
      "((11, 18), 'g_nonDu_auVVy')\n",
      "((11, 19), '_nognDu_auVyV')\n",
      "((12, 0), 'n_ognDu_auVyV')\n",
      "((12, 1), 'n_ognDu_aVyVu')\n",
      "((12, 2), 'n_ognDuaVyVu_')\n",
      "((12, 3), 'n_ognuaVyVu_D')\n",
      "((12, 4), 'n_onuaVyVu_Dg')\n",
      "((12, 5), 'nonuaVyVu_Dg_')\n",
      "((12, 6), 'onuaVyVu_Dg_n')\n",
      "((12, 7), 'nuaVyVu_Dgo_n')\n",
      "((12, 8), 'uaVyVu_Dngo_n')\n",
      "((12, 9), 'aVyVu_uDngo_n')\n",
      "((12, 10), 'VyVua_uDngo_n')\n",
      "((12, 11), 'yVVua_uDng_no')\n",
      "((12, 12), 'yVVua_uDg_non')\n",
      "((12, 13), 'yVVua_Dg_nonu')\n",
      "((12, 14), 'yVVu_Dg_nonua')\n",
      "((12, 15), 'yVu_Dg_nonuaV')\n",
      "((12, 16), 'Vu_Dg_nonuaVy')\n",
      "((12, 17), 'u_Dg_nonuaVVy')\n",
      "((12, 18), '_Dg_nonuauVVy')\n",
      "((12, 19), 'Dg_nonu_auVVy')\n"
     ]
    }
   ],
   "execution_count": 92
  },
  {
   "metadata": {
    "ExecuteTime": {
     "end_time": "2025-02-25T22:47:56.594206Z",
     "start_time": "2025-02-25T22:47:56.575071Z"
    }
   },
   "cell_type": "code",
   "source": [
    "# in toàn bộ dữ liệu ra file text. \n",
    "with open('output_cipher/output_rail_fence.txt', 'w') as f:\n",
    "    # message, key, offset, cipher_text, plain_text\n",
    "    f.write(f'Message: {message}\\n')\n",
    "    f.write(f'Num_rows: {num_rows}\\n')\n",
    "    f.write(f'Offset: {offset}\\n')\n",
    "    f.write(f'Char_offset: {char_offset}\\n')\n",
    "    f.write(f'\\nEncryption process.\\nMatrix encrypt:\\n')\n",
    "    # in ma trận mã hóa tạo form bảng cho ma trận\n",
    "    for i in range(len(rail_fence_matrix)):\n",
    "        for j in range(len(rail_fence_matrix[0])):\n",
    "            if not rail_fence_matrix[i][j]:\n",
    "                f.write('  ')\n",
    "            else:\n",
    "                f.write(rail_fence_matrix[i][j] + ' ')\n",
    "        f.write('\\n')\n",
    "    # in cipher_text\n",
    "    f.write(f'\\ncipher_text: {cipher_text}\\n')\n",
    "    # in ma trận giải mã\n",
    "    f.write(f'\\nDecryption process.\\nTrace matrix:\\n')\n",
    "    for i in range(len(trace_matrix)):\n",
    "        for j in range(len(trace_matrix[0])):\n",
    "            if not trace_matrix[i][j]:\n",
    "                f.write('  ')\n",
    "            else:\n",
    "                f.write(trace_matrix[i][j] + ' ')\n",
    "        f.write('\\n')\n",
    "    f.write(f'\\nMatrix decrypt:\\n')\n",
    "    for i in range(len(decrypt_matrix)):\n",
    "        for j in range(len(decrypt_matrix[0])):\n",
    "            if not decrypt_matrix[i][j]:\n",
    "                f.write('  ')\n",
    "            else:\n",
    "                f.write(decrypt_matrix[i][j] + ' ')\n",
    "        f.write('\\n')\n",
    "    # in plain_text\n",
    "    f.write(f'\\nplain_text: {plain_text}\\n')  \n",
    "    # in kết quả tấn công mã\n",
    "    f.write(f'\\nBrute force attack.\\n')\n",
    "    for i in atack_brute_force_rail_fence(cipher_text):\n",
    "        f.write(f'Key: {i[0]}. ')\n",
    "        f.write(f'plain_text: {i[1]}\\n')"
   ],
   "outputs": [],
   "execution_count": 106
  }
 ]
}
