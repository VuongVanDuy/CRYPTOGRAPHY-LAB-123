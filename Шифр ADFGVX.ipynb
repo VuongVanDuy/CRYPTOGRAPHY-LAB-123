{
 "cells": [
  {
   "cell_type": "code",
   "id": "initial_id",
   "metadata": {
    "collapsed": true,
    "ExecuteTime": {
     "end_time": "2025-02-25T23:24:04.852651Z",
     "start_time": "2025-02-25T23:24:04.841136Z"
    }
   },
   "source": [
    "alphabet = 'ABCDEFGHIJKLMNOPQRSTUVWXYZ0123456789'\n",
    "ADFGVX = {0: 'A', 1: 'D', 2: 'F', 3: 'G', 4: 'V', 5: 'X'}\n",
    "# message = 'Vuong Van Duy'\n",
    "message = 'My name is Vuong Van Duy from group 1362'\n",
    "substitution_key = 'SUBSTITUTION'\n",
    "transposition_key = 'TRANSPOSITION'"
   ],
   "outputs": [],
   "execution_count": 28
  },
  {
   "metadata": {
    "ExecuteTime": {
     "end_time": "2025-02-25T23:24:04.869701Z",
     "start_time": "2025-02-25T23:24:04.861722Z"
    }
   },
   "cell_type": "code",
   "source": [
    "def set_substitution_key(substitution_key):\n",
    "  res = ''\n",
    "\n",
    "  for char in substitution_key:\n",
    "    if char not in res:\n",
    "      res += char\n",
    "\n",
    "  return res"
   ],
   "id": "b7a9b9d119fad277",
   "outputs": [],
   "execution_count": 29
  },
  {
   "metadata": {
    "ExecuteTime": {
     "end_time": "2025-02-25T23:24:04.901056Z",
     "start_time": "2025-02-25T23:24:04.892003Z"
    }
   },
   "cell_type": "code",
   "source": [
    "def get_order_char(key_word):\n",
    "     key_word_sorted = sorted(key_word)\n",
    "     order_char = []\n",
    "     for i in key_word:\n",
    "        index = key_word_sorted.index(i)\n",
    "        order_char.append(index + 1)\n",
    "        key_word_sorted[index] = '_'\n",
    "         \n",
    "     return order_char"
   ],
   "id": "5dd40eda815517c2",
   "outputs": [],
   "execution_count": 30
  },
  {
   "metadata": {
    "ExecuteTime": {
     "end_time": "2025-02-25T23:24:04.939744Z",
     "start_time": "2025-02-25T23:24:04.929800Z"
    }
   },
   "cell_type": "code",
   "source": "get_order_char(transposition_key)",
   "id": "2b5d96def0ea283f",
   "outputs": [
    {
     "data": {
      "text/plain": [
       "[12, 9, 1, 4, 10, 8, 6, 11, 2, 13, 3, 7, 5]"
      ]
     },
     "execution_count": 31,
     "metadata": {},
     "output_type": "execute_result"
    }
   ],
   "execution_count": 31
  },
  {
   "metadata": {
    "ExecuteTime": {
     "end_time": "2025-02-25T23:24:04.980499Z",
     "start_time": "2025-02-25T23:24:04.972494Z"
    }
   },
   "cell_type": "code",
   "source": [
    "# đổi chỗ hai cột trong mảng hai chiều\n",
    "def swap_column(matrix, i, j):\n",
    "    for row in matrix:\n",
    "        row[i], row[j] = row[j], row[i]\n",
    "    return matrix"
   ],
   "id": "6d349448963f457b",
   "outputs": [],
   "execution_count": 32
  },
  {
   "metadata": {
    "ExecuteTime": {
     "end_time": "2025-02-25T23:24:05.023372Z",
     "start_time": "2025-02-25T23:24:05.014510Z"
    }
   },
   "cell_type": "code",
   "source": [
    "def get_substitution_matrix(substitution_key):\n",
    "    substitution_key = set_substitution_key(substitution_key.upper())\n",
    "    chars = list(substitution_key)\n",
    "    for char in alphabet:\n",
    "        if char not in substitution_key:\n",
    "            chars.append(char)\n",
    "    substitution_matrix = []\n",
    "    \n",
    "    for i in range(6):\n",
    "        substitution_matrix.append(chars[i*6:i*6+6])\n",
    "    \n",
    "    return substitution_matrix"
   ],
   "id": "b1c5bb37d3d0f218",
   "outputs": [],
   "execution_count": 33
  },
  {
   "metadata": {
    "ExecuteTime": {
     "end_time": "2025-02-25T23:24:05.092019Z",
     "start_time": "2025-02-25T23:24:05.080802Z"
    }
   },
   "cell_type": "code",
   "source": "get_substitution_matrix(substitution_key)",
   "id": "13dabdfc833eb72f",
   "outputs": [
    {
     "data": {
      "text/plain": [
       "[['S', 'U', 'B', 'T', 'I', 'O'],\n",
       " ['N', 'A', 'C', 'D', 'E', 'F'],\n",
       " ['G', 'H', 'J', 'K', 'L', 'M'],\n",
       " ['P', 'Q', 'R', 'V', 'W', 'X'],\n",
       " ['Y', 'Z', '0', '1', '2', '3'],\n",
       " ['4', '5', '6', '7', '8', '9']]"
      ]
     },
     "execution_count": 34,
     "metadata": {},
     "output_type": "execute_result"
    }
   ],
   "execution_count": 34
  },
  {
   "metadata": {
    "ExecuteTime": {
     "end_time": "2025-02-25T23:24:05.175223Z",
     "start_time": "2025-02-25T23:24:05.145060Z"
    }
   },
   "cell_type": "code",
   "source": [
    "import pandas as pd\n",
    "df = pd.DataFrame(get_substitution_matrix(substitution_key))\n",
    "\n",
    "# Lưu vào file Excel\n",
    "df.to_excel(\"output/output_subs_ADFGVX.xlsx\", index=False, header=False)"
   ],
   "id": "65cab38cb9e7a20b",
   "outputs": [],
   "execution_count": 35
  },
  {
   "metadata": {
    "ExecuteTime": {
     "end_time": "2025-02-25T23:24:05.208577Z",
     "start_time": "2025-02-25T23:24:05.200431Z"
    }
   },
   "cell_type": "code",
   "source": [
    "def get_index_elem_arr2D(arr2D, elem):\n",
    "    for i in range(len(arr2D)):\n",
    "        for j in range(len(arr2D[i])):\n",
    "            if arr2D[i][j] == elem:\n",
    "                return (i, j)\n",
    "    return -1"
   ],
   "id": "a3c9adaca2c173da",
   "outputs": [],
   "execution_count": 36
  },
  {
   "metadata": {
    "ExecuteTime": {
     "end_time": "2025-02-25T23:24:05.244838Z",
     "start_time": "2025-02-25T23:24:05.233824Z"
    }
   },
   "cell_type": "code",
   "source": [
    "def encrypt_substitution(message, substitution_key):\n",
    "    substitution_matrix = get_substitution_matrix(substitution_key)\n",
    "    \n",
    "    message = message.upper()\n",
    "    for char in message:\n",
    "        if char not in alphabet:\n",
    "            message = message.replace(char, '')\n",
    "    \n",
    "    cipher_text = ''\n",
    "    for char in message:\n",
    "        row, col = get_index_elem_arr2D(substitution_matrix, char)\n",
    "        cipher_text += ADFGVX[row] + ADFGVX[col]\n",
    "        \n",
    "    return cipher_text"
   ],
   "id": "3b1c62964c960502",
   "outputs": [],
   "execution_count": 37
  },
  {
   "metadata": {
    "ExecuteTime": {
     "end_time": "2025-02-25T23:24:05.280214Z",
     "start_time": "2025-02-25T23:24:05.271343Z"
    }
   },
   "cell_type": "code",
   "source": [
    "cipher_substitution_text = encrypt_substitution(message, substitution_key)\n",
    "print(cipher_substitution_text)"
   ],
   "id": "1f61bd7d7405137b",
   "outputs": [
    {
     "name": "stdout",
     "output_type": "stream",
     "text": [
      "FXVADADDFXDVAVAAGGADAXDAFAGGDDDADGADVADXGFAXFXFAGFAXADGAVGVXXFVV\n"
     ]
    }
   ],
   "execution_count": 38
  },
  {
   "metadata": {
    "ExecuteTime": {
     "end_time": "2025-02-25T23:24:05.342970Z",
     "start_time": "2025-02-25T23:24:05.333874Z"
    }
   },
   "cell_type": "code",
   "source": [
    "def matrix_before_transposition(message, substitution_key, transposition_key):\n",
    "    cipher_text = encrypt_substitution(message, substitution_key)\n",
    "    \n",
    "    m = len(cipher_text)\n",
    "    n = len(transposition_key)\n",
    "    matrix = []\n",
    "    for i in range(0, m, n):\n",
    "        if i + n > m:\n",
    "            matrix.append(list(cipher_text[i:i+n]) + [''] * (i + n - m))\n",
    "        else:\n",
    "            matrix.append(list(cipher_text[i:i+n]))\n",
    "    \n",
    "    return matrix"
   ],
   "id": "9aff197de61928d9",
   "outputs": [],
   "execution_count": 39
  },
  {
   "metadata": {
    "ExecuteTime": {
     "end_time": "2025-02-25T23:24:05.398808Z",
     "start_time": "2025-02-25T23:24:05.359991Z"
    }
   },
   "cell_type": "code",
   "source": [
    "matrix_before_transpos = matrix_before_transposition(message, substitution_key, transposition_key)\n",
    "\n",
    "matrix_before_transpos.insert(0, ['-'] * len(matrix_before_transpos[0]))\n",
    "matrix_before_transpos.insert(0, transposition_key)\n",
    "matrix_before_transpos.insert(0, get_order_char(transposition_key))\n",
    "df = pd.DataFrame(matrix_before_transpos)\n",
    "df.to_excel(\"output/output_before_transpos_ADFGVX.xlsx\", index=False, header=False)"
   ],
   "id": "8e9e552be89dc0d2",
   "outputs": [],
   "execution_count": 40
  },
  {
   "metadata": {
    "ExecuteTime": {
     "end_time": "2025-02-25T23:24:05.436848Z",
     "start_time": "2025-02-25T23:24:05.425849Z"
    }
   },
   "cell_type": "code",
   "source": [
    "def encrypt_transposition_matrix(message, substitution_key, transposition_key):\n",
    "    matrix = matrix_before_transposition(message, substitution_key, transposition_key)\n",
    "    transposition_key_sorted = list(transposition_key)\n",
    "    n = len(transposition_key)    \n",
    "    order_char = get_order_char(transposition_key)\n",
    "\n",
    "    # selection sort algorithm \n",
    "    for i in range(n - 1):\n",
    "        min_ord = order_char[i]\n",
    "        index = i\n",
    "        for j in range(i + 1, n):\n",
    "            if min_ord > order_char[j]:\n",
    "                min_ord = order_char[j]\n",
    "                index = j\n",
    "\n",
    "        order_char[i], order_char[index] = order_char[index], order_char[i]\n",
    "        transposition_key_sorted[i], transposition_key_sorted[index] = transposition_key_sorted[index], transposition_key_sorted[i]\n",
    "        swap_column(matrix, i, index)\n",
    "        \n",
    "    return matrix, transposition_key_sorted"
   ],
   "id": "5800078bf2f575a6",
   "outputs": [],
   "execution_count": 41
  },
  {
   "metadata": {
    "ExecuteTime": {
     "end_time": "2025-02-25T23:24:05.478320Z",
     "start_time": "2025-02-25T23:24:05.464891Z"
    }
   },
   "cell_type": "code",
   "source": [
    "transposition_matrix, transposition_key_sorted = encrypt_transposition_matrix(message, substitution_key, transposition_key)\n",
    "\n",
    "transposition_matrix.insert(0, ['-'] * len(transposition_matrix[0]))\n",
    "transposition_matrix.insert(0, transposition_key_sorted)\n",
    "transposition_matrix.insert(0, get_order_char(transposition_key_sorted))\n",
    "\n",
    "for i in range(len(transposition_matrix)):\n",
    "    for j in range(len(transposition_matrix[0])):\n",
    "        if not transposition_matrix[i][j]:\n",
    "            print('-', end=' ')\n",
    "        else:\n",
    "            print(transposition_matrix[i][j], end=' ')\n",
    "    print()"
   ],
   "id": "659c591f32c19d2b",
   "outputs": [
    {
     "name": "stdout",
     "output_type": "stream",
     "text": [
      "1 2 3 4 5 6 7 8 9 10 11 12 13 \n",
      "A I I N N O O P R S S T T \n",
      "- - - - - - - - - - - - - \n",
      "V F D A A D V A X D D F X \n",
      "A X A G A D F A A G A V D \n",
      "D A V D D D A A G D G G D \n",
      "F A F A X X A F G X F X G \n",
      "G X V A - V V G D V X A F \n"
     ]
    }
   ],
   "execution_count": 42
  },
  {
   "metadata": {
    "ExecuteTime": {
     "end_time": "2025-02-25T23:24:05.560769Z",
     "start_time": "2025-02-25T23:24:05.530706Z"
    }
   },
   "cell_type": "code",
   "source": [
    "df = pd.DataFrame(transposition_matrix)\n",
    "\n",
    "# Lưu vào file Excel\n",
    "df.to_excel(\"output/output_transpos_ADFGVX.xlsx\", index=False, header=False)"
   ],
   "id": "3e45b5e108160887",
   "outputs": [],
   "execution_count": 43
  },
  {
   "metadata": {
    "ExecuteTime": {
     "end_time": "2025-02-25T23:24:05.598641Z",
     "start_time": "2025-02-25T23:24:05.589281Z"
    }
   },
   "cell_type": "code",
   "source": [
    "def encrypt_ADGVFX(message, substitution_key, transposition_key, mode=False):\n",
    "    matrix, _ = encrypt_transposition_matrix(message, substitution_key, transposition_key)\n",
    "    cipher_text = ''.join(''.join(col) for col in zip(*matrix))\n",
    "    return cipher_text\n",
    "    "
   ],
   "id": "9dc6519b2b26688a",
   "outputs": [],
   "execution_count": 44
  },
  {
   "metadata": {
    "ExecuteTime": {
     "end_time": "2025-02-25T23:24:05.635852Z",
     "start_time": "2025-02-25T23:24:05.626862Z"
    }
   },
   "cell_type": "code",
   "source": [
    "cipher_text = encrypt_ADGVFX(message, substitution_key, transposition_key)\n",
    "print(cipher_text)"
   ],
   "id": "b460f669a4b8296a",
   "outputs": [
    {
     "name": "stdout",
     "output_type": "stream",
     "text": [
      "VADFGFXAAXDAVFVAGDAAAADXDDDXVVFAAVAAAFGXAGGDDGDXVDAGFXFVGXAXDDGF\n"
     ]
    }
   ],
   "execution_count": 45
  },
  {
   "metadata": {
    "ExecuteTime": {
     "end_time": "2025-02-25T23:24:05.680817Z",
     "start_time": "2025-02-25T23:24:05.665763Z"
    }
   },
   "cell_type": "code",
   "source": [
    "def restore_transposition_matrix(cipher_text, transposition_key):\n",
    "    num_cols = len(transposition_key)\n",
    "    num_rows = (len(cipher_text) + num_cols - 1) // num_cols\n",
    "    num_chars_last_row = (len(cipher_text) - 1) % num_cols + 1\n",
    "    order_char = get_order_char(transposition_key)\n",
    "    chars_last_row = order_char[0:num_chars_last_row]\n",
    "    \n",
    "    matrix = [[''] * num_cols for _ in range(num_rows)]\n",
    "    index = 0\n",
    "    for j in range(num_cols):\n",
    "        for i in range(num_rows):\n",
    "            if index < len(cipher_text):\n",
    "                if i == num_rows - 1 and num_chars_last_row > 0:\n",
    "                    if (j + 1) in chars_last_row:\n",
    "                        num_chars_last_row -= 1\n",
    "                        chars_last_row.remove(j + 1)\n",
    "                    else:\n",
    "                        continue\n",
    "               \n",
    "                matrix[i][j] = cipher_text[index]\n",
    "                index += 1\n",
    "    \n",
    "    return matrix"
   ],
   "id": "116eeb781f0e251f",
   "outputs": [],
   "execution_count": 46
  },
  {
   "metadata": {
    "ExecuteTime": {
     "end_time": "2025-02-25T23:24:05.722829Z",
     "start_time": "2025-02-25T23:24:05.711719Z"
    }
   },
   "cell_type": "code",
   "source": [
    "transposition_matrix_restore = restore_transposition_matrix(cipher_text, transposition_key)\n",
    "\n",
    "for i in range(len(transposition_matrix_restore)):\n",
    "    for j in range(len(transposition_matrix_restore[0])):\n",
    "        if not transposition_matrix_restore[i][j]:\n",
    "            print('-', end=' ')\n",
    "        else:\n",
    "            print(transposition_matrix_restore[i][j], end=' ')\n",
    "    print()"
   ],
   "id": "9146443062c5c107",
   "outputs": [
    {
     "name": "stdout",
     "output_type": "stream",
     "text": [
      "V F D A A D V A X D D F X \n",
      "A X A G A D F A A G A V D \n",
      "D A V D D D A A G D G G D \n",
      "F A F A X X A F G X F X G \n",
      "G X V A - V V G D V X A F \n"
     ]
    }
   ],
   "execution_count": 47
  },
  {
   "metadata": {
    "ExecuteTime": {
     "end_time": "2025-02-25T23:24:05.776934Z",
     "start_time": "2025-02-25T23:24:05.761895Z"
    }
   },
   "cell_type": "code",
   "source": [
    "def decrypt_substitution(cipher_text, transposition_key):\n",
    "    transposition_matrix = restore_transposition_matrix(cipher_text, transposition_key)\n",
    "    n = len(transposition_key)\n",
    "    order_char = get_order_char(transposition_key)\n",
    "    \n",
    "    trace = []\n",
    "    for i in range(n - 1):\n",
    "        min_ord = order_char[i]\n",
    "        index = i\n",
    "        for j in range(i + 1, n):\n",
    "            if min_ord > order_char[j]:\n",
    "                min_ord = order_char[j]\n",
    "                index = j\n",
    "        if index != i:\n",
    "            trace.append((i, index))\n",
    "            order_char[i], order_char[index] = order_char[index], order_char[i]\n",
    "    \n",
    "    for i, index in trace[::-1]:\n",
    "        swap_column(transposition_matrix, i, index)\n",
    "        order_char[i], order_char[index] = order_char[index], order_char[i]\n",
    "    \n",
    "    return ''.join(''.join(row) for row in transposition_matrix)"
   ],
   "id": "83248092b103e576",
   "outputs": [],
   "execution_count": 48
  },
  {
   "metadata": {
    "ExecuteTime": {
     "end_time": "2025-02-25T23:24:05.827293Z",
     "start_time": "2025-02-25T23:24:05.816293Z"
    }
   },
   "cell_type": "code",
   "source": [
    "cipher_substitution = decrypt_substitution(cipher_text, transposition_key)\n",
    "print(cipher_substitution)"
   ],
   "id": "a6fd053b6454813",
   "outputs": [
    {
     "name": "stdout",
     "output_type": "stream",
     "text": [
      "FXVADADDFXDVAVAAGGADAXDAFAGGDDDADGADVADXGFAXFXFAGFAXADGAVGVXXFVV\n"
     ]
    }
   ],
   "execution_count": 49
  },
  {
   "metadata": {
    "ExecuteTime": {
     "end_time": "2025-02-25T23:24:05.883363Z",
     "start_time": "2025-02-25T23:24:05.871342Z"
    }
   },
   "cell_type": "code",
   "source": [
    "def decrypt_ADGVFX(cipher_text, substitution_key, transposition_key, mode=False):\n",
    "    cipher_substitution = decrypt_substitution(cipher_text, transposition_key)\n",
    "    substitution_matrix = get_substitution_matrix(substitution_key)\n",
    "    \n",
    "    plain_text = ''\n",
    "    keys = list(ADFGVX.values())\n",
    "    for i in range(0, len(cipher_substitution), 2):\n",
    "        row = keys.index(cipher_substitution[i])\n",
    "        col = keys.index(cipher_substitution[i + 1])\n",
    "        plain_text += substitution_matrix[row][col]\n",
    "    \n",
    "    return plain_text"
   ],
   "id": "8cb9309abb18c324",
   "outputs": [],
   "execution_count": 50
  },
  {
   "metadata": {
    "ExecuteTime": {
     "end_time": "2025-02-25T23:24:05.926135Z",
     "start_time": "2025-02-25T23:24:05.916027Z"
    }
   },
   "cell_type": "code",
   "source": [
    "plain_text = decrypt_ADGVFX(cipher_text, substitution_key, transposition_key)\n",
    "print(plain_text)"
   ],
   "id": "48f0bd46967c3517",
   "outputs": [
    {
     "name": "stdout",
     "output_type": "stream",
     "text": [
      "MYNAMEISVUONGVANDUYFROMGROUP1362\n"
     ]
    }
   ],
   "execution_count": 51
  },
  {
   "metadata": {
    "ExecuteTime": {
     "end_time": "2025-02-25T23:24:05.990914Z",
     "start_time": "2025-02-25T23:24:05.968676Z"
    }
   },
   "cell_type": "code",
   "source": [
    "# in toàn bộ dữ liệu ra file text. \n",
    "substitution_matrix = get_substitution_matrix(substitution_key)\n",
    "substitution_matrix.insert(0, ['*']*6)\n",
    "substitution_matrix.insert(0, ['A', 'D', 'F', 'G', 'V', 'X'])\n",
    "mat = []\n",
    "\n",
    "with open('output_cipher/output_ADFGVX.txt', 'w') as f:\n",
    "    f.write(f'Message: {message}\\n')\n",
    "    f.write(f'Substitution key: {substitution_key}\\n')\n",
    "    f.write(f'Transposition key: {transposition_key}\\n')\n",
    "    # in ma trận thay thế ra file\n",
    "    f.write('\\nSubstitution matrix:\\n')\n",
    "    \n",
    "    for i, row in enumerate(substitution_matrix):\n",
    "        if i == 0 or i == 1:\n",
    "            row = [' ', ' '] + row\n",
    "        else:\n",
    "            row = [ADFGVX[i - 2], '*'] + row\n",
    "        row = [char if char else '-' for char in row]\n",
    "        mat.append(row)\n",
    "        f.write(' '.join(row) + '\\n')\n",
    "    \n",
    "    f.write('\\n')\n",
    "    # in từ mã sau khi thay thế ra file\n",
    "    f.write(f'Cipher substitution text: {cipher_substitution_text}\\n')\n",
    "    # in ma trận trước khi hoán vị ra file\n",
    "    f.write('\\nMatrix before transposition:\\n')\n",
    "    for row in matrix_before_transpos:\n",
    "        row = [str(char) if char else '-' for char in row]\n",
    "        f.write(' '.join(row) + '\\n')\n",
    "    # in ma trận hoán vị ra file\n",
    "    f.write('\\nTransposition matrix:\\n')\n",
    "    for row in transposition_matrix:\n",
    "        row = [str(char) if char else '-' for char in row]\n",
    "        f.write(' '.join(row) + '\\n')\n",
    "    f.write(f'\\nCipher text: {cipher_text}\\n')\n",
    "    f.write(f'\\nPlain text: {plain_text}\\n')"
   ],
   "id": "61352f9501451763",
   "outputs": [],
   "execution_count": 52
  }
 ],
 "metadata": {
  "kernelspec": {
   "display_name": "Python 3",
   "language": "python",
   "name": "python3"
  },
  "language_info": {
   "codemirror_mode": {
    "name": "ipython",
    "version": 2
   },
   "file_extension": ".py",
   "mimetype": "text/x-python",
   "name": "python",
   "nbconvert_exporter": "python",
   "pygments_lexer": "ipython2",
   "version": "2.7.6"
  }
 },
 "nbformat": 4,
 "nbformat_minor": 5
}
