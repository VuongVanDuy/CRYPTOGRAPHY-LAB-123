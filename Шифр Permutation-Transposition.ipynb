{
 "cells": [
  {
   "cell_type": "code",
   "id": "initial_id",
   "metadata": {
    "collapsed": true,
    "ExecuteTime": {
     "end_time": "2025-02-25T23:11:42.504777Z",
     "start_time": "2025-02-25T23:11:42.497234Z"
    }
   },
   "source": [
    "# message = 'Vuong Van Duy'\n",
    "message = 'My name is Vuong Van Duy from group 1362'\n",
    "key_word = 'secret'"
   ],
   "outputs": [],
   "execution_count": 43
  },
  {
   "metadata": {
    "ExecuteTime": {
     "end_time": "2025-02-25T23:11:42.529915Z",
     "start_time": "2025-02-25T23:11:42.522934Z"
    }
   },
   "cell_type": "code",
   "source": [
    "def get_order_char(key_word):\n",
    "     key_word_sorted = sorted(key_word)\n",
    "     order_char = []\n",
    "     for i in key_word:\n",
    "        index = key_word_sorted.index(i)\n",
    "        order_char.append(index + 1)\n",
    "        key_word_sorted[index] = '_'\n",
    "         \n",
    "     return order_char"
   ],
   "id": "1ac1cfb10d9211bf",
   "outputs": [],
   "execution_count": 44
  },
  {
   "metadata": {
    "ExecuteTime": {
     "end_time": "2025-02-25T23:11:42.561144Z",
     "start_time": "2025-02-25T23:11:42.550047Z"
    }
   },
   "cell_type": "code",
   "source": "get_order_char(key_word)",
   "id": "687bf131dc07b194",
   "outputs": [
    {
     "data": {
      "text/plain": [
       "[5, 2, 1, 4, 3, 6]"
      ]
     },
     "execution_count": 45,
     "metadata": {},
     "output_type": "execute_result"
    }
   ],
   "execution_count": 45
  },
  {
   "metadata": {
    "ExecuteTime": {
     "end_time": "2025-02-25T23:11:42.653709Z",
     "start_time": "2025-02-25T23:11:42.646700Z"
    }
   },
   "cell_type": "code",
   "source": [
    "# đổi chỗ hai cột trong mảng hai chiều\n",
    "def swap_column(matrix, i, j):\n",
    "    for row in matrix:\n",
    "        row[i], row[j] = row[j], row[i]\n",
    "    return matrix"
   ],
   "id": "4a6fcef26bf81fdf",
   "outputs": [],
   "execution_count": 46
  },
  {
   "metadata": {
    "ExecuteTime": {
     "end_time": "2025-02-25T23:11:42.698527Z",
     "start_time": "2025-02-25T23:11:42.690462Z"
    }
   },
   "cell_type": "code",
   "source": [
    "arr = [[1, 2, 3], [4, 5, 6], [7, 8, 9]]\n",
    "swap_column(arr, 0, 2)"
   ],
   "id": "9126b2adf6548b33",
   "outputs": [
    {
     "data": {
      "text/plain": [
       "[[3, 2, 1], [6, 5, 4], [9, 8, 7]]"
      ]
     },
     "execution_count": 47,
     "metadata": {},
     "output_type": "execute_result"
    }
   ],
   "execution_count": 47
  },
  {
   "metadata": {
    "ExecuteTime": {
     "end_time": "2025-02-25T23:11:42.737927Z",
     "start_time": "2025-02-25T23:11:42.732247Z"
    }
   },
   "cell_type": "code",
   "source": [
    "# đổi chỗ hai hàng trong mảng hai chiều\n",
    "def swap_row(matrix, i, j):\n",
    "    matrix[i], matrix[j] = matrix[j], matrix[i]\n",
    "    return matrix"
   ],
   "id": "729e76c4a1bcd51a",
   "outputs": [],
   "execution_count": 48
  },
  {
   "metadata": {
    "ExecuteTime": {
     "end_time": "2025-02-25T23:11:42.775407Z",
     "start_time": "2025-02-25T23:11:42.767899Z"
    }
   },
   "cell_type": "code",
   "source": [
    "def get_matrix_message(message, key_word):\n",
    "    n = len(key_word)\n",
    "    m = len(message)\n",
    "    matrix = []\n",
    "    for i in range(0, m, n):\n",
    "        if i + n > m:\n",
    "            matrix.append(list(message[i:i+n]) + [''] * (n - (m - i)))\n",
    "        else:\n",
    "            matrix.append(list(message[i:i+n]))\n",
    "  \n",
    "    return matrix"
   ],
   "id": "24c8db0d25a27285",
   "outputs": [],
   "execution_count": 49
  },
  {
   "metadata": {
    "ExecuteTime": {
     "end_time": "2025-02-25T23:11:42.807038Z",
     "start_time": "2025-02-25T23:11:42.799816Z"
    }
   },
   "cell_type": "code",
   "source": [
    "matrix_message = get_matrix_message(message, key_word)\n",
    "matrix_message.insert(0, list(key_word))\n",
    "matrix_message.insert(0, get_order_char(key_word))\n",
    "for i in range(len(matrix_message)):\n",
    "    for j in range(len(matrix_message[0])):\n",
    "        if not matrix_message[i][j]:\n",
    "            print('-', end=' ')\n",
    "        else:\n",
    "            print(matrix_message[i][j], end=' ')\n",
    "    print()"
   ],
   "id": "c2d36e280ff24eb6",
   "outputs": [
    {
     "name": "stdout",
     "output_type": "stream",
     "text": [
      "5 2 1 4 3 6 \n",
      "s e c r e t \n",
      "M y   n a m \n",
      "e   i s   V \n",
      "u o n g   V \n",
      "a n   D u y \n",
      "  f r o m   \n",
      "g r o u p   \n",
      "1 3 6 2 - - \n"
     ]
    }
   ],
   "execution_count": 50
  },
  {
   "metadata": {
    "ExecuteTime": {
     "end_time": "2025-02-25T23:11:42.853581Z",
     "start_time": "2025-02-25T23:11:42.831680Z"
    }
   },
   "cell_type": "code",
   "source": [
    "import pandas as pd\n",
    "df = pd.DataFrame(matrix_message)\n",
    "\n",
    "# Lưu vào file Excel\n",
    "df.to_excel(\"output/output_transpos_1.xlsx\", index=False, header=False)"
   ],
   "id": "6a7e879e802eb19a",
   "outputs": [],
   "execution_count": 51
  },
  {
   "metadata": {
    "ExecuteTime": {
     "end_time": "2025-02-25T23:11:42.885225Z",
     "start_time": "2025-02-25T23:11:42.876697Z"
    }
   },
   "cell_type": "code",
   "source": [
    "def get_encrypt_matrix(message, key_word):\n",
    "    key_word_1 = list(key_word)\n",
    "    order_char = get_order_char(key_word)\n",
    "    n = len(key_word)\n",
    "    m = len(message)\n",
    "    matrix = get_matrix_message(message, key_word)\n",
    "  \n",
    "    # selection sort algorithm \n",
    "    for i in range(n - 1):\n",
    "        min_ord = order_char[i]\n",
    "        index = i\n",
    "        for j in range(i + 1, n):\n",
    "            if min_ord > order_char[j]:\n",
    "                min_ord = order_char[j]\n",
    "                index = j\n",
    "        \n",
    "        order_char[i], order_char[index] = order_char[index], order_char[i]\n",
    "        key_word_1[i], key_word_1[index] = key_word_1[index], key_word_1[i]\n",
    "        swap_column(matrix, i, index)\n",
    "        \n",
    "    return matrix, key_word_1"
   ],
   "id": "1c11a147e9eb15a2",
   "outputs": [],
   "execution_count": 52
  },
  {
   "metadata": {
    "ExecuteTime": {
     "end_time": "2025-02-25T23:11:42.923972Z",
     "start_time": "2025-02-25T23:11:42.915925Z"
    }
   },
   "cell_type": "code",
   "source": [
    "encrypt_matrix, key_word_sorted = get_encrypt_matrix(message, key_word)\n",
    "encrypt_matrix.insert(0, ['-'] * len(encrypt_matrix[0]))\n",
    "encrypt_matrix.insert(0, key_word_sorted)\n",
    "encrypt_matrix.insert(0, get_order_char(key_word_sorted))\n",
    "for i in range(len(encrypt_matrix)):\n",
    "    for j in range(len(encrypt_matrix[0])):\n",
    "        if not encrypt_matrix[i][j]:\n",
    "            print('-', end=' ')\n",
    "        else:\n",
    "            print(encrypt_matrix[i][j], end=' ')\n",
    "    print()"
   ],
   "id": "1dba9d9d7708e627",
   "outputs": [
    {
     "name": "stdout",
     "output_type": "stream",
     "text": [
      "1 2 3 4 5 6 \n",
      "c e e r s t \n",
      "- - - - - - \n",
      "  y a n M m \n",
      "i     s e V \n",
      "n o   g u V \n",
      "  n u D a y \n",
      "r f m o     \n",
      "o r p u g   \n",
      "6 3 - 2 1 - \n"
     ]
    }
   ],
   "execution_count": 53
  },
  {
   "metadata": {
    "ExecuteTime": {
     "end_time": "2025-02-25T23:11:42.983854Z",
     "start_time": "2025-02-25T23:11:42.962586Z"
    }
   },
   "cell_type": "code",
   "source": [
    "import pandas as pd\n",
    "df = pd.DataFrame(encrypt_matrix)\n",
    "\n",
    "# Lưu vào file Excel\n",
    "df.to_excel(\"output/output_transpos_2.xlsx\", index=False, header=False)"
   ],
   "id": "b8997f07d85ea204",
   "outputs": [],
   "execution_count": 54
  },
  {
   "metadata": {
    "ExecuteTime": {
     "end_time": "2025-02-25T23:11:43.026849Z",
     "start_time": "2025-02-25T23:11:43.019534Z"
    }
   },
   "cell_type": "code",
   "source": [
    "def encrypt_transposition(message, key_word):\n",
    "    matrix, _ = get_encrypt_matrix(message, key_word)\n",
    "    \n",
    "    cipher_text = ''.join([''.join(col) for col in zip(*matrix)])\n",
    "    return cipher_text"
   ],
   "id": "f3f1db5bc7c86f8b",
   "outputs": [],
   "execution_count": 55
  },
  {
   "metadata": {
    "ExecuteTime": {
     "end_time": "2025-02-25T23:11:43.076566Z",
     "start_time": "2025-02-25T23:11:43.068054Z"
    }
   },
   "cell_type": "code",
   "source": [
    "cipher_text = encrypt_transposition(message, key_word)\n",
    "print(cipher_text)"
   ],
   "id": "1468a1ca790d4cae",
   "outputs": [
    {
     "name": "stdout",
     "output_type": "stream",
     "text": [
      " in ro6y onfr3a  umpnsgDou2Meua g1mVVy  \n"
     ]
    }
   ],
   "execution_count": 56
  },
  {
   "metadata": {
    "ExecuteTime": {
     "end_time": "2025-02-25T23:11:43.132420Z",
     "start_time": "2025-02-25T23:11:43.121470Z"
    }
   },
   "cell_type": "code",
   "source": [
    "def get_decrypt_matrix(cipher_text, key_word):\n",
    "    order_char = get_order_char(key_word)\n",
    "    num_cols = len(key_word)\n",
    "    num_rows = (len(cipher_text) + num_cols - 1) // num_cols\n",
    "    matrix = [[''] * num_cols for _ in range(num_rows)]\n",
    "    num_chars_last_row = (len(cipher_text) - 1) % num_cols + 1\n",
    "    chars_last_row = order_char[0:num_chars_last_row]\n",
    "    index = 0\n",
    "    for j in range(num_cols):\n",
    "        for i in range(num_rows):\n",
    "            if index < len(cipher_text):\n",
    "                if i == num_rows - 1 and num_chars_last_row > 0:\n",
    "                    if (j + 1) in chars_last_row:\n",
    "                        num_chars_last_row -= 1\n",
    "                        chars_last_row.remove(j + 1)\n",
    "                    else:\n",
    "                        continue\n",
    "               \n",
    "                matrix[i][j] = cipher_text[index]\n",
    "                index += 1\n",
    "    \n",
    "    trace = []\n",
    "    for i in range(num_rows - 1):\n",
    "        min_ord = order_char[i]\n",
    "        index = i\n",
    "        for j in range(i + 1, num_cols):\n",
    "            if min_ord > order_char[j]:\n",
    "                min_ord = order_char[j]\n",
    "                index = j\n",
    "\n",
    "        trace.append((i, index))\n",
    "        order_char[i], order_char[index] = order_char[index], order_char[i]\n",
    "\n",
    "    for i, index in trace[::-1]:\n",
    "        swap_column(matrix, i, index)\n",
    "    \n",
    "    return matrix"
   ],
   "id": "bae6067aa7899c3",
   "outputs": [],
   "execution_count": 57
  },
  {
   "metadata": {
    "ExecuteTime": {
     "end_time": "2025-02-25T23:11:43.195510Z",
     "start_time": "2025-02-25T23:11:43.187960Z"
    }
   },
   "cell_type": "code",
   "source": [
    "decrypt_matrix = get_decrypt_matrix(cipher_text, key_word)\n",
    "for i in range(len(decrypt_matrix)):\n",
    "    for j in range(len(decrypt_matrix[0])):\n",
    "        if not decrypt_matrix[i][j]:\n",
    "            print('-', end=' ')\n",
    "        else:\n",
    "            print(decrypt_matrix[i][j], end=' ')\n",
    "    print()"
   ],
   "id": "660f0a70d24e84e5",
   "outputs": [
    {
     "name": "stdout",
     "output_type": "stream",
     "text": [
      "M y   n a m \n",
      "e   i s   V \n",
      "u o n g   V \n",
      "a n   D u y \n",
      "  f r o m   \n",
      "g r o u p   \n",
      "1 3 6 2 - - \n"
     ]
    }
   ],
   "execution_count": 58
  },
  {
   "metadata": {
    "ExecuteTime": {
     "end_time": "2025-02-25T23:11:43.258053Z",
     "start_time": "2025-02-25T23:11:43.248883Z"
    }
   },
   "cell_type": "code",
   "source": [
    "def decrypt_transposition(cipher_text, key_word):\n",
    "    matrix = get_decrypt_matrix(cipher_text, key_word)\n",
    "    message = ''.join([''.join(row) for row in matrix])\n",
    "    return message"
   ],
   "id": "968cfacf4f399f42",
   "outputs": [],
   "execution_count": 59
  },
  {
   "metadata": {
    "ExecuteTime": {
     "end_time": "2025-02-25T23:11:43.300602Z",
     "start_time": "2025-02-25T23:11:43.295089Z"
    }
   },
   "cell_type": "code",
   "source": [
    "plain_text = decrypt_transposition(cipher_text, key_word)\n",
    "print(plain_text)"
   ],
   "id": "a6c4b9a54df1a54e",
   "outputs": [
    {
     "name": "stdout",
     "output_type": "stream",
     "text": [
      "My name is Vuong Van Duy from group 1362\n"
     ]
    }
   ],
   "execution_count": 60
  },
  {
   "metadata": {
    "ExecuteTime": {
     "end_time": "2025-02-25T23:11:43.349203Z",
     "start_time": "2025-02-25T23:11:43.337142Z"
    }
   },
   "cell_type": "code",
   "source": [
    "# in toàn bộ kết quả ra file text\n",
    "with open('output_cipher/output_transpos.txt', 'w') as f:\n",
    "    f.write(f'Message: {message}\\n')\n",
    "    f.write(f'Key word: {key_word}\\n\\n')\n",
    "    f.write(f'Encryption process.\\nMessage matrix:\\n')\n",
    "    for i in range(len(matrix_message)):\n",
    "        for j in range(len(matrix_message[0])):\n",
    "            if not matrix_message[i][j]:\n",
    "                f.write('- ')\n",
    "            else:\n",
    "                f.write(f'{matrix_message[i][j]} ')\n",
    "        f.write('\\n')\n",
    "    f.write('\\nEncrypt matrix:\\n')\n",
    "    for i in range(len(encrypt_matrix)):\n",
    "        for j in range(len(encrypt_matrix[0])):\n",
    "            if not encrypt_matrix[i][j]:\n",
    "                f.write('- ')\n",
    "            else:\n",
    "                f.write(f'{encrypt_matrix[i][j]} ')\n",
    "        f.write('\\n')\n",
    "    f.write(f'\\nEncrypt: {cipher_text}\\n\\n')\n",
    "    f.write(f'Decryption process.\\nEncrypt matrix:\\n')\n",
    "    for i in range(len(encrypt_matrix)):\n",
    "        for j in range(len(encrypt_matrix[0])):\n",
    "            if not encrypt_matrix[i][j]:\n",
    "                f.write('- ')\n",
    "            else:\n",
    "                f.write(f'{encrypt_matrix[i][j]} ')\n",
    "        f.write('\\n')\n",
    "    f.write('\\nDecrypt matrix:\\n')\n",
    "    for i in range(len(decrypt_matrix)):\n",
    "        for j in range(len(decrypt_matrix[0])):\n",
    "            if not decrypt_matrix[i][j]:\n",
    "                f.write('- ')\n",
    "            else:\n",
    "                f.write(f'{decrypt_matrix[i][j]} ')\n",
    "        f.write('\\n')\n",
    "    f.write(f'\\nDecrypt: {plain_text}\\n')\n",
    "    "
   ],
   "id": "aceb5bb8a49f23ff",
   "outputs": [],
   "execution_count": 61
  }
 ],
 "metadata": {
  "kernelspec": {
   "display_name": "Python 3",
   "language": "python",
   "name": "python3"
  },
  "language_info": {
   "codemirror_mode": {
    "name": "ipython",
    "version": 2
   },
   "file_extension": ".py",
   "mimetype": "text/x-python",
   "name": "python",
   "nbconvert_exporter": "python",
   "pygments_lexer": "ipython2",
   "version": "2.7.6"
  }
 },
 "nbformat": 4,
 "nbformat_minor": 5
}
