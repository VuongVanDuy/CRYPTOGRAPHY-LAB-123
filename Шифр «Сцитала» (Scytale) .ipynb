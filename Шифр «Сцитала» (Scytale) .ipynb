{
 "nbformat": 4,
 "nbformat_minor": 0,
 "metadata": {
  "colab": {
   "provenance": [],
   "authorship_tag": "ABX9TyM71uXJzyfJM+Yn+D6eCgco"
  },
  "kernelspec": {
   "name": "python3",
   "display_name": "Python 3 (ipykernel)",
   "language": "python"
  },
  "language_info": {
   "name": "python"
  }
 },
 "cells": [
  {
   "cell_type": "code",
   "source": [
    "message = 'Vuong_Van_Duy'\n",
    "num_edges = 8\n",
    "offset = 4\n",
    "char_offset = '#'"
   ],
   "metadata": {
    "id": "wK-3ctO12lRL",
    "executionInfo": {
     "status": "ok",
     "timestamp": 1739646196496,
     "user_tz": -180,
     "elapsed": 285,
     "user": {
      "displayName": "Duy Vương",
      "userId": "12461555443532234114"
     }
    },
    "ExecuteTime": {
     "end_time": "2025-02-25T22:51:51.938329Z",
     "start_time": "2025-02-25T22:51:51.931775Z"
    }
   },
   "outputs": [],
   "execution_count": 50
  },
  {
   "cell_type": "code",
   "metadata": {
    "id": "O4EbnZYj2SJ9",
    "executionInfo": {
     "status": "ok",
     "timestamp": 1739646198526,
     "user_tz": -180,
     "elapsed": 14,
     "user": {
      "displayName": "Duy Vương",
      "userId": "12461555443532234114"
     }
    },
    "ExecuteTime": {
     "end_time": "2025-02-25T22:51:51.962251Z",
     "start_time": "2025-02-25T22:51:51.952197Z"
    }
   },
   "source": [
    "def encrypt_scytale_matrix(message, num_edges, offset):\n",
    "    message = char_offset * offset + message\n",
    "    num_cols = (len(message) + num_edges - 1) // num_edges # Làm tròn lên\n",
    "    matrix = [['' for _ in range(num_cols)] for _ in range(num_edges)]\n",
    "\n",
    "    index = 0\n",
    "    for i in range(num_edges):\n",
    "        for j in range(num_cols):\n",
    "            if index < len(message):\n",
    "                matrix[i][j] = message[index]\n",
    "                index += 1\n",
    "\n",
    "    return matrix"
   ],
   "outputs": [],
   "execution_count": 51
  },
  {
   "cell_type": "code",
   "source": [
    "encrypt_matrix = encrypt_scytale_matrix(message, num_edges, offset)\n",
    "\n",
    "for i in range(len(encrypt_matrix)):\n",
    "  for j in range(len(encrypt_matrix[0])):\n",
    "    if not encrypt_matrix[i][j]:\n",
    "        print(' ', end=' ')\n",
    "    else:\n",
    "        print(encrypt_matrix[i][j], end=' ')\n",
    "  print()"
   ],
   "metadata": {
    "colab": {
     "base_uri": "https://localhost:8080/"
    },
    "id": "3CBM0vMX4c3L",
    "executionInfo": {
     "status": "ok",
     "timestamp": 1739646198526,
     "user_tz": -180,
     "elapsed": 12,
     "user": {
      "displayName": "Duy Vương",
      "userId": "12461555443532234114"
     }
    },
    "outputId": "9b3fb71c-f0f0-4876-a197-fce2f578103e",
    "ExecuteTime": {
     "end_time": "2025-02-25T22:51:51.998793Z",
     "start_time": "2025-02-25T22:51:51.986154Z"
    }
   },
   "outputs": [
    {
     "name": "stdout",
     "output_type": "stream",
     "text": [
      "# # # \n",
      "# V u \n",
      "o n g \n",
      "_ V a \n",
      "n _ D \n",
      "u y   \n",
      "      \n",
      "      \n"
     ]
    }
   ],
   "execution_count": 52
  },
  {
   "cell_type": "code",
   "source": [
    "import pandas as pd\n",
    "df = pd.DataFrame(encrypt_matrix)\n",
    "\n",
    "# Lưu vào file Excel\n",
    "df.to_excel(\"output/output_scytale.xlsx\", index=False, header=False)"
   ],
   "metadata": {
    "id": "4PYvNE1v4jSi",
    "executionInfo": {
     "status": "ok",
     "timestamp": 1739646198526,
     "user_tz": -180,
     "elapsed": 7,
     "user": {
      "displayName": "Duy Vương",
      "userId": "12461555443532234114"
     }
    },
    "ExecuteTime": {
     "end_time": "2025-02-25T22:51:52.088166Z",
     "start_time": "2025-02-25T22:51:52.061485Z"
    }
   },
   "outputs": [],
   "execution_count": 53
  },
  {
   "cell_type": "code",
   "source": [
    "def encrypt_scytale(message, num_edges, offset):\n",
    "  matrix = encrypt_scytale_matrix(message, num_edges, offset)\n",
    "\n",
    "  return ''.join([''.join(col) for col in zip(*matrix)]).replace(char_offset, '')"
   ],
   "metadata": {
    "id": "sqCHtCGU4JEE",
    "executionInfo": {
     "status": "ok",
     "timestamp": 1739646198847,
     "user_tz": -180,
     "elapsed": 327,
     "user": {
      "displayName": "Duy Vương",
      "userId": "12461555443532234114"
     }
    },
    "ExecuteTime": {
     "end_time": "2025-02-25T22:51:52.130058Z",
     "start_time": "2025-02-25T22:51:52.121699Z"
    }
   },
   "outputs": [],
   "execution_count": 54
  },
  {
   "cell_type": "code",
   "source": [
    "cipher_text = encrypt_scytale(message, num_edges, offset)\n",
    "print(cipher_text)"
   ],
   "metadata": {
    "colab": {
     "base_uri": "https://localhost:8080/"
    },
    "id": "UgBwBr1K2kPm",
    "executionInfo": {
     "status": "ok",
     "timestamp": 1739646198848,
     "user_tz": -180,
     "elapsed": 26,
     "user": {
      "displayName": "Duy Vương",
      "userId": "12461555443532234114"
     }
    },
    "outputId": "b3d923a1-d4e1-4e4b-d0ea-1d489d00593e",
    "ExecuteTime": {
     "end_time": "2025-02-25T22:51:52.156620Z",
     "start_time": "2025-02-25T22:51:52.149531Z"
    }
   },
   "outputs": [
    {
     "name": "stdout",
     "output_type": "stream",
     "text": [
      "o_nuVnV_yugaD\n"
     ]
    }
   ],
   "execution_count": 55
  },
  {
   "cell_type": "code",
   "source": [
    "def decrypt_scytale_matrix(cipher_text, num_edges, offset):\n",
    "    cipher_text = char_offset * offset + cipher_text\n",
    "    num_cols = (len(cipher_text) + num_edges - 1) // num_edges # Làm tròn lên\n",
    "    matrix = [[char_offset if i * num_cols + j + 1 <= offset else '' for j in range(num_cols)] for i in range(num_edges)]\n",
    "\n",
    "    row_offset = offset // num_cols\n",
    "    if row_offset == num_edges - 1:\n",
    "      return [list(cipher_text)]\n",
    "\n",
    "    index = offset\n",
    "\n",
    "    last_row = (len(cipher_text) + num_cols - 1) // num_cols\n",
    "    num_char_last_row = (len(cipher_text) - 1) % num_cols + 1\n",
    "    for j in range(num_cols):\n",
    "        for i in range(row_offset, last_row):\n",
    "            if index < len(cipher_text) and not matrix[i][j]:\n",
    "              if i == last_row - 1:\n",
    "                num_char_last_row -= 1\n",
    "                if num_char_last_row < 0:\n",
    "                  continue\n",
    "              matrix[i][j] = cipher_text[index]\n",
    "              index += 1\n",
    "\n",
    "    return matrix"
   ],
   "metadata": {
    "id": "VxWfegPdBA3b",
    "executionInfo": {
     "status": "ok",
     "timestamp": 1739646198848,
     "user_tz": -180,
     "elapsed": 21,
     "user": {
      "displayName": "Duy Vương",
      "userId": "12461555443532234114"
     }
    },
    "ExecuteTime": {
     "end_time": "2025-02-25T22:51:52.188719Z",
     "start_time": "2025-02-25T22:51:52.179670Z"
    }
   },
   "outputs": [],
   "execution_count": 56
  },
  {
   "cell_type": "code",
   "source": [
    "decrypt_matrix = decrypt_scytale_matrix(cipher_text, num_edges, offset)\n",
    "\n",
    "for i in range(len(decrypt_matrix)):\n",
    "  for j in range(len(decrypt_matrix[0])):\n",
    "    print(decrypt_matrix[i][j], end=' ')\n",
    "  print()"
   ],
   "metadata": {
    "colab": {
     "base_uri": "https://localhost:8080/"
    },
    "id": "3YmET0Y8EJ_5",
    "executionInfo": {
     "status": "ok",
     "timestamp": 1739646198849,
     "user_tz": -180,
     "elapsed": 21,
     "user": {
      "displayName": "Duy Vương",
      "userId": "12461555443532234114"
     }
    },
    "outputId": "f88b7825-61a0-465a-895c-abd368c9305e",
    "ExecuteTime": {
     "end_time": "2025-02-25T22:51:52.227876Z",
     "start_time": "2025-02-25T22:51:52.217900Z"
    }
   },
   "outputs": [
    {
     "name": "stdout",
     "output_type": "stream",
     "text": [
      "# # # \n",
      "# V u \n",
      "o n g \n",
      "_ V a \n",
      "n _ D \n",
      "u y  \n",
      "   \n",
      "   \n"
     ]
    }
   ],
   "execution_count": 57
  },
  {
   "cell_type": "code",
   "source": [
    "def decrypt_scytale(cipher_text, num_edges, offset):\n",
    "  matrix = decrypt_scytale_matrix(cipher_text, num_edges, offset)\n",
    "\n",
    "  return ''.join([''.join(row) for row in matrix]).replace(char_offset, '')"
   ],
   "metadata": {
    "id": "OwDkCQDvUNLi",
    "executionInfo": {
     "status": "ok",
     "timestamp": 1739646198849,
     "user_tz": -180,
     "elapsed": 17,
     "user": {
      "displayName": "Duy Vương",
      "userId": "12461555443532234114"
     }
    },
    "ExecuteTime": {
     "end_time": "2025-02-25T22:51:52.278258Z",
     "start_time": "2025-02-25T22:51:52.270420Z"
    }
   },
   "outputs": [],
   "execution_count": 58
  },
  {
   "cell_type": "code",
   "source": [
    "plain_text = decrypt_scytale(cipher_text, num_edges, offset)\n",
    "print(plain_text)"
   ],
   "metadata": {
    "colab": {
     "base_uri": "https://localhost:8080/"
    },
    "id": "b4Cg1Hz0BTgW",
    "executionInfo": {
     "status": "ok",
     "timestamp": 1739646198849,
     "user_tz": -180,
     "elapsed": 16,
     "user": {
      "displayName": "Duy Vương",
      "userId": "12461555443532234114"
     }
    },
    "outputId": "e9bb8f68-1740-47f3-c8c7-ef897c37046c",
    "ExecuteTime": {
     "end_time": "2025-02-25T22:51:52.298911Z",
     "start_time": "2025-02-25T22:51:52.292820Z"
    }
   },
   "outputs": [
    {
     "name": "stdout",
     "output_type": "stream",
     "text": [
      "Vuong_Van_Duy\n"
     ]
    }
   ],
   "execution_count": 59
  },
  {
   "cell_type": "code",
   "source": [
    "def atack_brute_force_scytale(cipher_text):\n",
    "  results = []\n",
    "\n",
    "  for i in range(1, len(cipher_text)):\n",
    "    for j in range(1, len(cipher_text)):\n",
    "      plain_text = decrypt_scytale(cipher_text, i, j)\n",
    "      results.append(((i , j), plain_text))\n",
    "\n",
    "  return results"
   ],
   "metadata": {
    "id": "OIeNWtBBXzQ1",
    "executionInfo": {
     "status": "ok",
     "timestamp": 1739646198849,
     "user_tz": -180,
     "elapsed": 13,
     "user": {
      "displayName": "Duy Vương",
      "userId": "12461555443532234114"
     }
    },
    "ExecuteTime": {
     "end_time": "2025-02-25T22:51:52.325669Z",
     "start_time": "2025-02-25T22:51:52.318498Z"
    }
   },
   "outputs": [],
   "execution_count": 60
  },
  {
   "cell_type": "code",
   "source": [
    "for i in atack_brute_force_scytale(cipher_text):\n",
    "  print(i)"
   ],
   "metadata": {
    "colab": {
     "base_uri": "https://localhost:8080/"
    },
    "id": "QhseRg1nX3Rq",
    "executionInfo": {
     "status": "ok",
     "timestamp": 1739646198850,
     "user_tz": -180,
     "elapsed": 13,
     "user": {
      "displayName": "Duy Vương",
      "userId": "12461555443532234114"
     }
    },
    "outputId": "1e22e176-6ae9-4c94-cae3-bb1896cced38",
    "ExecuteTime": {
     "end_time": "2025-02-25T22:51:52.367564Z",
     "start_time": "2025-02-25T22:51:52.357700Z"
    }
   },
   "outputs": [
    {
     "name": "stdout",
     "output_type": "stream",
     "text": [
      "((1, 1), 'o_nuVnV_yugaD')\n",
      "((1, 2), 'o_nuVnV_yugaD')\n",
      "((1, 3), 'o_nuVnV_yugaD')\n",
      "((1, 4), 'o_nuVnV_yugaD')\n",
      "((1, 5), 'o_nuVnV_yugaD')\n",
      "((1, 6), 'o_nuVnV_yugaD')\n",
      "((1, 7), 'o_nuVnV_yugaD')\n",
      "((1, 8), 'o_nuVnV_yugaD')\n",
      "((1, 9), 'o_nuVnV_yugaD')\n",
      "((1, 10), 'o_nuVnV_yugaD')\n",
      "((1, 11), 'o_nuVnV_yugaD')\n",
      "((1, 12), 'o_nuVnV_yugaD')\n",
      "((2, 1), '_un_uaonVVygD')\n",
      "((2, 2), 'nVVygDo_un_ua')\n",
      "((2, 3), 'un_uao_nVVygD')\n",
      "((2, 4), 'VVygDo_nun_ua')\n",
      "((2, 5), 'n_uao_nuVVygD')\n",
      "((2, 6), 'VygDo_nuVn_ua')\n",
      "((2, 7), '_uao_nuVnVygD')\n",
      "((2, 8), 'ygDo_nuVnV_ua')\n",
      "((2, 9), 'uao_nuVnV_ygD')\n",
      "((2, 10), 'gDo_nuVnV_yua')\n",
      "((2, 11), 'ao_nuVnV_yugD')\n",
      "((2, 12), 'Do_nuVnV_yuga')\n",
      "((3, 1), 'nnyaouVuD_V_g')\n",
      "((3, 2), 'V_gonnya_uVuD')\n",
      "((3, 3), 'VuaonV_gD_uny')\n",
      "((3, 4), 'yaonVVuD_un_g')\n",
      "((3, 5), 'gonVVya_un_uD')\n",
      "((3, 6), 'aonVVygD_un_u')\n",
      "((3, 7), 'onVVygD_un_ua')\n",
      "((3, 8), '_un_uaonVVygD')\n",
      "((3, 9), '_un_uaDonVVyg')\n",
      "((3, 10), 'nVVygDo_un_ua')\n",
      "((3, 11), 'un_uao_nVVygD')\n",
      "((3, 12), 'un_uaDo_nVVyg')\n",
      "((4, 1), 'u_goVya_nuDnV')\n",
      "((4, 2), 'Vgou_a_VyDnnu')\n",
      "((4, 3), 'uouVg_V_annyD')\n",
      "((4, 4), 'gouVya_V_uDnn')\n",
      "((4, 5), 'ouVua_V_gDnny')\n",
      "((4, 6), 'nnyaouVuD_V_g')\n",
      "((4, 7), 'V_gonnya_uVuD')\n",
      "((4, 8), 'V_uaonnygD_uV')\n",
      "((4, 9), 'VuaonV_gD_uny')\n",
      "((4, 10), 'yaonVVuD_un_g')\n",
      "((4, 11), 'gonVVya_un_uD')\n",
      "((4, 12), 'uaonVVygD_un_')\n",
      "((5, 1), 'Vuong_Van_Duy')\n",
      "((5, 2), 'yoVu_ngnVau_D')\n",
      "((5, 3), 'uouVg_V_annyD')\n",
      "((5, 4), 'oV_g_nyanVuDu')\n",
      "((5, 5), 'u_goVya_nuDnV')\n",
      "((5, 6), 'Vgou_a_VyDnnu')\n",
      "((5, 7), 'uouVg_V_annyD')\n",
      "((5, 8), '_gounya_VVuDn')\n",
      "((5, 9), 'gouVya_V_uDnn')\n",
      "((5, 10), 'ouVua_V_gDnny')\n",
      "((5, 11), 'nnyaouVuD_V_g')\n",
      "((5, 12), 'V_gonnya_uVuD')\n",
      "((6, 1), 'Vuong_Van_Duy')\n",
      "((6, 2), 'yoVu_ngnVau_D')\n",
      "((6, 3), 'onu_Vgn_auyDV')\n",
      "((6, 4), 'Vuong_Van_Duy')\n",
      "((6, 5), 'yoVu_ngnVau_D')\n",
      "((6, 6), 'Vgou_a_VyDnnu')\n",
      "((6, 7), 'uouVg_V_annyD')\n",
      "((6, 8), 'oV_g_nyanVuDu')\n",
      "((6, 9), 'u_goVya_nuDnV')\n",
      "((6, 10), 'Vgou_a_VyDnnu')\n",
      "((6, 11), 'uouVg_V_annyD')\n",
      "((6, 12), 'V_gonnya_uVuD')\n",
      "((7, 1), 'Vo__ynuugVanD')\n",
      "((7, 2), 'yoVu_ngnVau_D')\n",
      "((7, 3), 'onu_Vgn_auyDV')\n",
      "((7, 4), 'Vuong_Van_Duy')\n",
      "((7, 5), 'yoVu_ngnVau_D')\n",
      "((7, 6), 'onu_Vgn_auyDV')\n",
      "((7, 7), 'Vuong_Van_Duy')\n",
      "((7, 8), 'yoVu_ngnVau_D')\n",
      "((7, 9), 'u_goVya_nuDnV')\n",
      "((7, 10), 'Vgou_a_VyDnnu')\n",
      "((7, 11), 'uouVg_V_annyD')\n",
      "((7, 12), 'oV_g_nyanVuDu')\n",
      "((8, 1), 'Vo__ynuugVanD')\n",
      "((8, 2), 'o__ynuugVanDV')\n",
      "((8, 3), 'Vo__ynuugVanD')\n",
      "((8, 4), 'Vuong_Van_Duy')\n",
      "((8, 5), 'yoVu_ngnVau_D')\n",
      "((8, 6), 'onu_Vgn_auyDV')\n",
      "((8, 7), 'Vuong_Van_Duy')\n",
      "((8, 8), 'yoVu_ngnVau_D')\n",
      "((8, 9), 'onu_Vgn_auyDV')\n",
      "((8, 10), 'Vuong_Van_Duy')\n",
      "((8, 11), 'yoVu_ngnVau_D')\n",
      "((8, 12), 'oV_g_nyanVuDu')\n",
      "((9, 1), 'Vo__ynuugVanD')\n",
      "((9, 2), 'o__ynuugVanDV')\n",
      "((9, 3), 'Vo__ynuugVanD')\n",
      "((9, 4), 'o__ynuugVanDV')\n",
      "((9, 5), 'Vo__ynuugVanD')\n",
      "((9, 6), 'onu_Vgn_auyDV')\n",
      "((9, 7), 'Vuong_Van_Duy')\n",
      "((9, 8), 'yoVu_ngnVau_D')\n",
      "((9, 9), 'onu_Vgn_auyDV')\n",
      "((9, 10), 'Vuong_Van_Duy')\n",
      "((9, 11), 'yoVu_ngnVau_D')\n",
      "((9, 12), 'onu_Vgn_auyDV')\n",
      "((10, 1), 'Vo__ynuugVanD')\n",
      "((10, 2), 'o__ynuugVanDV')\n",
      "((10, 3), 'Vo__ynuugVanD')\n",
      "((10, 4), 'o__ynuugVanDV')\n",
      "((10, 5), 'Vo__ynuugVanD')\n",
      "((10, 6), 'o__ynuugVanDV')\n",
      "((10, 7), 'Vo__ynuugVanD')\n",
      "((10, 8), 'yoVu_ngnVau_D')\n",
      "((10, 9), 'onu_Vgn_auyDV')\n",
      "((10, 10), 'Vuong_Van_Duy')\n",
      "((10, 11), 'yoVu_ngnVau_D')\n",
      "((10, 12), 'onu_Vgn_auyDV')\n",
      "((11, 1), 'Vo__ynuugVanD')\n",
      "((11, 2), 'o__ynuugVanDV')\n",
      "((11, 3), 'Vo__ynuugVanD')\n",
      "((11, 4), 'o__ynuugVanDV')\n",
      "((11, 5), 'Vo__ynuugVanD')\n",
      "((11, 6), 'o__ynuugVanDV')\n",
      "((11, 7), 'Vo__ynuugVanD')\n",
      "((11, 8), 'o__ynuugVanDV')\n",
      "((11, 9), 'Vo__ynuugVanD')\n",
      "((11, 10), 'Vuong_Van_Duy')\n",
      "((11, 11), 'yoVu_ngnVau_D')\n",
      "((11, 12), 'onu_Vgn_auyDV')\n",
      "((12, 1), 'Vo__ynuugVanD')\n",
      "((12, 2), 'o__ynuugVanDV')\n",
      "((12, 3), 'Vo__ynuugVanD')\n",
      "((12, 4), 'o__ynuugVanDV')\n",
      "((12, 5), 'Vo__ynuugVanD')\n",
      "((12, 6), 'o__ynuugVanDV')\n",
      "((12, 7), 'Vo__ynuugVanD')\n",
      "((12, 8), 'o__ynuugVanDV')\n",
      "((12, 9), 'Vo__ynuugVanD')\n",
      "((12, 10), 'o__ynuugVanDV')\n",
      "((12, 11), 'Vo__ynuugVanD')\n",
      "((12, 12), 'onu_Vgn_auyDV')\n"
     ]
    }
   ],
   "execution_count": 61
  },
  {
   "metadata": {
    "ExecuteTime": {
     "end_time": "2025-02-25T22:51:52.559372Z",
     "start_time": "2025-02-25T22:51:52.546748Z"
    }
   },
   "cell_type": "code",
   "source": [
    "# in toàn bộ dữ liệu ra file text\n",
    "with open('output_cipher/output_scytale.txt', 'w') as f:\n",
    "    f.write(f'Message: {message}\\n')\n",
    "    f.write(f'Number of edges: {num_edges}\\n')\n",
    "    f.write(f'Offset: {offset}\\n\\n')\n",
    "    f.write(f'Char offser:{char_offset}\\n\\n')\n",
    "    f.write(f'Encryption process.\\nEncrypt matrix:\\n')\n",
    "    for i in range(len(encrypt_matrix)):\n",
    "        for j in range(len(encrypt_matrix[0])):\n",
    "            if not encrypt_matrix[i][j]:\n",
    "                f.write('  ')\n",
    "            else:\n",
    "                f.write(encrypt_matrix[i][j] + ' ')\n",
    "        f.write('\\n')\n",
    "    f.write(f'\\nCipher text: {cipher_text}\\n\\n')\n",
    "    f.write(f'Decryption process.\\nDecrypt matrix:\\n')\n",
    "    for i in range(len(decrypt_matrix)):\n",
    "        for j in range(len(decrypt_matrix[0])):\n",
    "            f.write(decrypt_matrix[i][j] + ' ')\n",
    "        f.write('\\n')\n",
    "    f.write(f'\\nPlain text: {plain_text}\\n\\n')\n",
    "    f.write(f'Brute force attack:\\n')\n",
    "    for i in atack_brute_force_scytale(cipher_text):\n",
    "        f.write(f'Key: {i[0]}. ')\n",
    "        f.write(f'Plain text: {i[1]}\\n')"
   ],
   "outputs": [],
   "execution_count": 62
  }
 ]
}
