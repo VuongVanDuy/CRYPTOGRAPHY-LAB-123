{
 "nbformat": 4,
 "nbformat_minor": 0,
 "metadata": {
  "colab": {
   "provenance": [],
   "authorship_tag": "ABX9TyO6jGwlQxpDu24CVDa1BBhw"
  },
  "kernelspec": {
   "name": "python3",
   "display_name": "Python 3 (ipykernel)",
   "language": "python"
  },
  "language_info": {
   "name": "python"
  }
 },
 "cells": [
  {
   "cell_type": "code",
   "metadata": {
    "id": "fiECVjFnyfh0",
    "executionInfo": {
     "status": "ok",
     "timestamp": 1739749872193,
     "user_tz": -180,
     "elapsed": 274,
     "user": {
      "displayName": "Duy Vương",
      "userId": "12461555443532234114"
     }
    },
    "ExecuteTime": {
     "end_time": "2025-02-25T23:03:31.153216Z",
     "start_time": "2025-02-25T23:03:31.146466Z"
    }
   },
   "source": [
    "message = 'Vuong_Van_Duy'\n",
    "alphabet = 'ABCDEFGHIJKLMNOPQRSTUVWXYZabcdefghijklmnopqrstuvwxyz'\n",
    "key_word = 'password'\n",
    "key_shift = 5"
   ],
   "outputs": [],
   "execution_count": 13
  },
  {
   "cell_type": "code",
   "source": [
    "def set_key_word(key_word):\n",
    "  res = ''\n",
    "\n",
    "  for char in key_word:\n",
    "    if char not in res:\n",
    "      res += char\n",
    "\n",
    "  return res"
   ],
   "metadata": {
    "id": "f_cxwJyw12Iq",
    "executionInfo": {
     "status": "ok",
     "timestamp": 1739749872509,
     "user_tz": -180,
     "elapsed": 17,
     "user": {
      "displayName": "Duy Vương",
      "userId": "12461555443532234114"
     }
    },
    "ExecuteTime": {
     "end_time": "2025-02-25T23:03:31.172540Z",
     "start_time": "2025-02-25T23:03:31.165810Z"
    }
   },
   "outputs": [],
   "execution_count": 14
  },
  {
   "cell_type": "code",
   "source": [
    "set_key_word(key_word)"
   ],
   "metadata": {
    "colab": {
     "base_uri": "https://localhost:8080/",
     "height": 36
    },
    "id": "LfvNb5-e2EoF",
    "executionInfo": {
     "status": "ok",
     "timestamp": 1739749872509,
     "user_tz": -180,
     "elapsed": 17,
     "user": {
      "displayName": "Duy Vương",
      "userId": "12461555443532234114"
     }
    },
    "outputId": "7f6288df-a43e-4ddd-f230-e3064273fd9d",
    "ExecuteTime": {
     "end_time": "2025-02-25T23:03:31.213236Z",
     "start_time": "2025-02-25T23:03:31.203946Z"
    }
   },
   "outputs": [
    {
     "data": {
      "text/plain": [
       "'pasword'"
      ]
     },
     "execution_count": 15,
     "metadata": {},
     "output_type": "execute_result"
    }
   ],
   "execution_count": 15
  },
  {
   "cell_type": "code",
   "source": [
    "def encrypt_alphabet(alphabet, key_word, key_shift):\n",
    "  key_word = set_key_word(key_word)\n",
    "\n",
    "  for key_char in key_word:\n",
    "    if key_char in alphabet:\n",
    "      alphabet = alphabet.replace(key_char, '')\n",
    "\n",
    "  encrypt_alphabet = alphabet[len(alphabet) - key_shift: len(alphabet)] + key_word + alphabet[0: len(alphabet) - key_shift]\n",
    "  return encrypt_alphabet"
   ],
   "metadata": {
    "id": "eXGTsfnA0240",
    "executionInfo": {
     "status": "ok",
     "timestamp": 1739749872510,
     "user_tz": -180,
     "elapsed": 16,
     "user": {
      "displayName": "Duy Vương",
      "userId": "12461555443532234114"
     }
    },
    "ExecuteTime": {
     "end_time": "2025-02-25T23:03:31.252187Z",
     "start_time": "2025-02-25T23:03:31.243551Z"
    }
   },
   "outputs": [],
   "execution_count": 16
  },
  {
   "cell_type": "code",
   "source": [
    "cipher_alphabet = encrypt_alphabet(alphabet, key_word, key_shift)\n",
    "print(cipher_alphabet)"
   ],
   "metadata": {
    "colab": {
     "base_uri": "https://localhost:8080/"
    },
    "id": "nJMfXZa73VsZ",
    "executionInfo": {
     "status": "ok",
     "timestamp": 1739749872510,
     "user_tz": -180,
     "elapsed": 15,
     "user": {
      "displayName": "Duy Vương",
      "userId": "12461555443532234114"
     }
    },
    "outputId": "c5238aae-e55a-4ee4-c03a-32f2d7bf6c2f",
    "ExecuteTime": {
     "end_time": "2025-02-25T23:03:31.291652Z",
     "start_time": "2025-02-25T23:03:31.283586Z"
    }
   },
   "outputs": [
    {
     "name": "stdout",
     "output_type": "stream",
     "text": [
      "uvxyzpaswordABCDEFGHIJKLMNOPQRSTUVWXYZbcefghijklmnqt\n"
     ]
    }
   ],
   "execution_count": 17
  },
  {
   "cell_type": "code",
   "source": [
    "import pandas as pd\n",
    "\n",
    "df = pd.DataFrame([list(alphabet), list(cipher_alphabet)], index=[\"old\", \"new\"])\n",
    "df.to_excel('output/alphabet_substitution.xlsx', index=False)"
   ],
   "metadata": {
    "id": "hF_egw1hBtcf",
    "executionInfo": {
     "status": "ok",
     "timestamp": 1739749872510,
     "user_tz": -180,
     "elapsed": 12,
     "user": {
      "displayName": "Duy Vương",
      "userId": "12461555443532234114"
     }
    },
    "ExecuteTime": {
     "end_time": "2025-02-25T23:03:31.446500Z",
     "start_time": "2025-02-25T23:03:31.411858Z"
    }
   },
   "outputs": [],
   "execution_count": 18
  },
  {
   "cell_type": "code",
   "source": [
    "def encrypt_substitution(message, alphabet, cipher_alphabet):\n",
    "  cipher_text = ''\n",
    "\n",
    "  for char in message:\n",
    "    if char in alphabet:\n",
    "      cipher_text += cipher_alphabet[alphabet.index(char)]\n",
    "    else:\n",
    "      cipher_text += char\n",
    "\n",
    "  return cipher_text"
   ],
   "metadata": {
    "id": "3VdX5Msf906e",
    "executionInfo": {
     "status": "ok",
     "timestamp": 1739749872510,
     "user_tz": -180,
     "elapsed": 12,
     "user": {
      "displayName": "Duy Vương",
      "userId": "12461555443532234114"
     }
    },
    "ExecuteTime": {
     "end_time": "2025-02-25T23:03:31.472295Z",
     "start_time": "2025-02-25T23:03:31.465586Z"
    }
   },
   "outputs": [],
   "execution_count": 19
  },
  {
   "cell_type": "code",
   "source": [
    "cipher_text = encrypt_substitution(message, alphabet, cipher_alphabet)\n",
    "print(cipher_text)"
   ],
   "metadata": {
    "colab": {
     "base_uri": "https://localhost:8080/"
    },
    "id": "g1JutAsS-kDo",
    "executionInfo": {
     "status": "ok",
     "timestamp": 1739749872510,
     "user_tz": -180,
     "elapsed": 11,
     "user": {
      "displayName": "Duy Vương",
      "userId": "12461555443532234114"
     }
    },
    "outputId": "1076107d-2862-4b55-da3b-37c23abb6cf0",
    "ExecuteTime": {
     "end_time": "2025-02-25T23:03:31.496465Z",
     "start_time": "2025-02-25T23:03:31.490412Z"
    }
   },
   "outputs": [
    {
     "name": "stdout",
     "output_type": "stream",
     "text": [
      "JkecU_JOc_ykq\n"
     ]
    }
   ],
   "execution_count": 20
  },
  {
   "cell_type": "code",
   "source": [
    "def decrypt_substitution(cipher_text, alphabet, cipher_alphabet):\n",
    "  plain_text = ''\n",
    "  for char in cipher_text:\n",
    "    if char in cipher_alphabet:\n",
    "      plain_text += alphabet[cipher_alphabet.index(char)]\n",
    "    else:\n",
    "      plain_text += char\n",
    "\n",
    "  return plain_text"
   ],
   "metadata": {
    "id": "gCrAVlXVARlz",
    "executionInfo": {
     "status": "ok",
     "timestamp": 1739749872968,
     "user_tz": -180,
     "elapsed": 9,
     "user": {
      "displayName": "Duy Vương",
      "userId": "12461555443532234114"
     }
    },
    "ExecuteTime": {
     "end_time": "2025-02-25T23:03:31.532304Z",
     "start_time": "2025-02-25T23:03:31.525525Z"
    }
   },
   "outputs": [],
   "execution_count": 21
  },
  {
   "cell_type": "code",
   "source": [
    "plain_text = decrypt_substitution(cipher_text, alphabet, cipher_alphabet)\n",
    "print(plain_text)"
   ],
   "metadata": {
    "colab": {
     "base_uri": "https://localhost:8080/"
    },
    "id": "X_jyTY-BAjPo",
    "executionInfo": {
     "status": "ok",
     "timestamp": 1739749872969,
     "user_tz": -180,
     "elapsed": 9,
     "user": {
      "displayName": "Duy Vương",
      "userId": "12461555443532234114"
     }
    },
    "outputId": "60370e1a-3b69-4ff1-bdf5-1f259081c89f",
    "ExecuteTime": {
     "end_time": "2025-02-25T23:03:31.559876Z",
     "start_time": "2025-02-25T23:03:31.551807Z"
    }
   },
   "outputs": [
    {
     "name": "stdout",
     "output_type": "stream",
     "text": [
      "Vuong_Van_Duy\n"
     ]
    }
   ],
   "execution_count": 22
  },
  {
   "metadata": {
    "ExecuteTime": {
     "end_time": "2025-02-25T23:03:31.616773Z",
     "start_time": "2025-02-25T23:03:31.609750Z"
    }
   },
   "cell_type": "code",
   "source": [
    "# in toàn bộ kết quả ra file text\n",
    "with open('output_cipher/output_substitution.txt', 'w') as f:\n",
    "  f.write(f'Message: {message}\\n')\n",
    "  f.write(f'Key word: {key_word}\\n')\n",
    "  f.write(f'Key shift: {key_shift}\\n')\n",
    "  f.write(f'Alphabet: {alphabet}\\n')\n",
    "  f.write(f'Cipher alphabet: {cipher_alphabet}\\n')\n",
    "  f.write(f'Cipher text: {cipher_text}\\n')\n",
    "  f.write(f'Plain text: {plain_text}\\n')"
   ],
   "outputs": [],
   "execution_count": 23
  }
 ]
}
