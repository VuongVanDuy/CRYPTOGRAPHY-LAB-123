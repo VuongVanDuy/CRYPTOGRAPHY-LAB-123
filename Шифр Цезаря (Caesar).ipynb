{
 "nbformat": 4,
 "nbformat_minor": 0,
 "metadata": {
  "colab": {
   "provenance": [],
   "authorship_tag": "ABX9TyOsZTNT6DZu6/fhNvkGMn5M"
  },
  "kernelspec": {
   "name": "python3",
   "display_name": "Python 3 (ipykernel)",
   "language": "python"
  },
  "language_info": {
   "name": "python"
  }
 },
 "cells": [
  {
   "cell_type": "code",
   "source": [
    "alphabet = 'ABCDEFGHIJKLMNOPQRSTUVWXYZ'\n",
    "message = 'Vuong_Van_Duy'\n",
    "key = 3"
   ],
   "metadata": {
    "id": "_vWBRoZWeemB",
    "executionInfo": {
     "status": "ok",
     "timestamp": 1739741052886,
     "user_tz": -180,
     "elapsed": 3911,
     "user": {
      "displayName": "Duy Vương",
      "userId": "12461555443532234114"
     }
    },
    "ExecuteTime": {
     "end_time": "2025-02-25T22:59:50.831525Z",
     "start_time": "2025-02-25T22:59:50.825633Z"
    }
   },
   "outputs": [],
   "execution_count": 12
  },
  {
   "cell_type": "code",
   "metadata": {
    "id": "aNwWwU3oeO_i",
    "executionInfo": {
     "status": "ok",
     "timestamp": 1739741052886,
     "user_tz": -180,
     "elapsed": 20,
     "user": {
      "displayName": "Duy Vương",
      "userId": "12461555443532234114"
     }
    },
    "ExecuteTime": {
     "end_time": "2025-02-25T22:59:50.872477Z",
     "start_time": "2025-02-25T22:59:50.863408Z"
    }
   },
   "source": [
    "def caesar_encrypt(text, shift):\n",
    "    result = \"\"\n",
    "    MOD = len(alphabet)\n",
    "    for char in text:\n",
    "        if char.isalpha() and char.upper() in alphabet:  # Kiểm tra nếu là chữ cái\n",
    "            offset = ord('A') if char.isupper() else ord('a')\n",
    "            result += chr((ord(char) - offset + shift) % MOD + offset)\n",
    "        else:\n",
    "            result += char  # Giữ nguyên ký tự không phải chữ cái\n",
    "    return result"
   ],
   "outputs": [],
   "execution_count": 13
  },
  {
   "cell_type": "code",
   "source": [
    "cipher_text = caesar_encrypt(message, key)\n",
    "print(cipher_text)"
   ],
   "metadata": {
    "colab": {
     "base_uri": "https://localhost:8080/"
    },
    "id": "7QaVMuGRgoBP",
    "executionInfo": {
     "status": "ok",
     "timestamp": 1739741052887,
     "user_tz": -180,
     "elapsed": 19,
     "user": {
      "displayName": "Duy Vương",
      "userId": "12461555443532234114"
     }
    },
    "outputId": "d11ea049-92f0-4238-bff6-b3d17b65c589",
    "ExecuteTime": {
     "end_time": "2025-02-25T22:59:50.901111Z",
     "start_time": "2025-02-25T22:59:50.894027Z"
    }
   },
   "outputs": [
    {
     "name": "stdout",
     "output_type": "stream",
     "text": [
      "Yxrqj_Ydq_Gxb\n"
     ]
    }
   ],
   "execution_count": 14
  },
  {
   "cell_type": "code",
   "source": [
    "def caesar_decrypt(text, shift):\n",
    "    return caesar_encrypt(text, -shift)  # Giải mã chỉ là mã hóa ngược"
   ],
   "metadata": {
    "id": "ry3empwniOKV",
    "executionInfo": {
     "status": "ok",
     "timestamp": 1739741052887,
     "user_tz": -180,
     "elapsed": 14,
     "user": {
      "displayName": "Duy Vương",
      "userId": "12461555443532234114"
     }
    },
    "ExecuteTime": {
     "end_time": "2025-02-25T22:59:50.929226Z",
     "start_time": "2025-02-25T22:59:50.921327Z"
    }
   },
   "outputs": [],
   "execution_count": 15
  },
  {
   "cell_type": "code",
   "source": [
    "plain_text = caesar_decrypt(cipher_text, key)\n",
    "print(plain_text)"
   ],
   "metadata": {
    "colab": {
     "base_uri": "https://localhost:8080/"
    },
    "id": "58VaM3faiRKd",
    "executionInfo": {
     "status": "ok",
     "timestamp": 1739741052887,
     "user_tz": -180,
     "elapsed": 13,
     "user": {
      "displayName": "Duy Vương",
      "userId": "12461555443532234114"
     }
    },
    "outputId": "511b22bc-0ab1-466f-8fe0-f5313ef02946",
    "ExecuteTime": {
     "end_time": "2025-02-25T22:59:50.963698Z",
     "start_time": "2025-02-25T22:59:50.955824Z"
    }
   },
   "outputs": [
    {
     "name": "stdout",
     "output_type": "stream",
     "text": [
      "Vuong_Van_Duy\n"
     ]
    }
   ],
   "execution_count": 16
  },
  {
   "cell_type": "code",
   "source": [
    "def atack_brute_force_caesar(cipher_text):\n",
    "  results = []\n",
    "\n",
    "  for i in range(1, len(alphabet) + 1):\n",
    "    res = caesar_decrypt(cipher_text, i)\n",
    "    results.append((i, res))\n",
    "\n",
    "  return results"
   ],
   "metadata": {
    "id": "W1-re4D4wFaj",
    "executionInfo": {
     "status": "ok",
     "timestamp": 1739742990860,
     "user_tz": -180,
     "elapsed": 398,
     "user": {
      "displayName": "Duy Vương",
      "userId": "12461555443532234114"
     }
    },
    "ExecuteTime": {
     "end_time": "2025-02-25T22:59:51.087982Z",
     "start_time": "2025-02-25T22:59:51.081511Z"
    }
   },
   "outputs": [],
   "execution_count": 17
  },
  {
   "cell_type": "code",
   "source": [
    "results = atack_brute_force_caesar(cipher_text)\n",
    "print(results)"
   ],
   "metadata": {
    "colab": {
     "base_uri": "https://localhost:8080/"
    },
    "id": "NMAqpM_2wYXa",
    "executionInfo": {
     "status": "ok",
     "timestamp": 1739742993804,
     "user_tz": -180,
     "elapsed": 3,
     "user": {
      "displayName": "Duy Vương",
      "userId": "12461555443532234114"
     }
    },
    "outputId": "b21637a9-f44d-42b8-b4c1-e245f9fbd9e3",
    "ExecuteTime": {
     "end_time": "2025-02-25T22:59:51.116612Z",
     "start_time": "2025-02-25T22:59:51.108957Z"
    }
   },
   "outputs": [
    {
     "name": "stdout",
     "output_type": "stream",
     "text": [
      "[(1, 'Xwqpi_Xcp_Fwa'), (2, 'Wvpoh_Wbo_Evz'), (3, 'Vuong_Van_Duy'), (4, 'Utnmf_Uzm_Ctx'), (5, 'Tsmle_Tyl_Bsw'), (6, 'Srlkd_Sxk_Arv'), (7, 'Rqkjc_Rwj_Zqu'), (8, 'Qpjib_Qvi_Ypt'), (9, 'Poiha_Puh_Xos'), (10, 'Onhgz_Otg_Wnr'), (11, 'Nmgfy_Nsf_Vmq'), (12, 'Mlfex_Mre_Ulp'), (13, 'Lkedw_Lqd_Tko'), (14, 'Kjdcv_Kpc_Sjn'), (15, 'Jicbu_Job_Rim'), (16, 'Ihbat_Ina_Qhl'), (17, 'Hgazs_Hmz_Pgk'), (18, 'Gfzyr_Gly_Ofj'), (19, 'Feyxq_Fkx_Nei'), (20, 'Edxwp_Ejw_Mdh'), (21, 'Dcwvo_Div_Lcg'), (22, 'Cbvun_Chu_Kbf'), (23, 'Bautm_Bgt_Jae'), (24, 'Aztsl_Afs_Izd'), (25, 'Zysrk_Zer_Hyc'), (26, 'Yxrqj_Ydq_Gxb')]\n"
     ]
    }
   ],
   "execution_count": 18
  },
  {
   "metadata": {
    "ExecuteTime": {
     "end_time": "2025-02-25T22:59:51.248360Z",
     "start_time": "2025-02-25T22:59:51.239236Z"
    }
   },
   "cell_type": "code",
   "source": [
    "# in toàn bộ kết quả ra file text\n",
    "with open('output_cipher/output_caesar.txt', 'w') as f:\n",
    "    # message, key\n",
    "    f.write(f'Message: {message}\\n')\n",
    "    f.write(f'Key: {key}\\n')\n",
    "    f.write(f'Cipher text: {cipher_text}\\n')\n",
    "    f.write(f'Plain text: {plain_text}\\n\\n')\n",
    "    # in attack\n",
    "    f.write('Attack:\\n')\n",
    "    for key, plain_text in results:\n",
    "        f.write(f'Key: {key}, Plain text: {plain_text}\\n')"
   ],
   "outputs": [],
   "execution_count": 19
  }
 ]
}
