{
 "cells": [
  {
   "metadata": {
    "ExecuteTime": {
     "end_time": "2025-02-25T23:20:21.192542Z",
     "start_time": "2025-02-25T23:20:21.097396Z"
    }
   },
   "cell_type": "code",
   "source": "import numpy as np",
   "id": "ada2b0296fc9ef20",
   "outputs": [],
   "execution_count": 1
  },
  {
   "cell_type": "code",
   "id": "initial_id",
   "metadata": {
    "collapsed": true,
    "ExecuteTime": {
     "end_time": "2025-02-25T23:20:21.204461Z",
     "start_time": "2025-02-25T23:20:21.198393Z"
    }
   },
   "source": [
    "alphabet = 'ABCDEFGHIJKLMNOPQRSTUVWXYZ'\n",
    "message = 'My name is Vuong Van Duy from group 1362'\n",
    "#message = 'VUONGVANDUY'\n",
    "# hill matrix  \n",
    "# 2 15 22  3\n",
    "#  1  9  1 12\n",
    "# 16  7 13 11\n",
    "#  8  5  9  6\n",
    "Hill_matrix = np.array([[2, 15, 22, 3], [1, 9, 1, 12], [16, 7, 13, 11], [8, 5, 9, 6]])"
   ],
   "outputs": [],
   "execution_count": 2
  },
  {
   "metadata": {
    "ExecuteTime": {
     "end_time": "2025-02-25T23:20:22.536288Z",
     "start_time": "2025-02-25T23:20:21.433716Z"
    }
   },
   "cell_type": "code",
   "source": [
    "# in ma trận hill ra file excel\n",
    "import pandas as pd\n",
    "df = pd.DataFrame(Hill_matrix)\n",
    "df.to_excel('output/Hill_matrix.xlsx', index=False, header=False)"
   ],
   "id": "31ac2429c66f6668",
   "outputs": [],
   "execution_count": 3
  },
  {
   "metadata": {
    "ExecuteTime": {
     "end_time": "2025-02-25T23:20:22.570638Z",
     "start_time": "2025-02-25T23:20:22.559957Z"
    }
   },
   "cell_type": "code",
   "source": [
    "def get_plaintext_matrix(message):\n",
    "    message = message.upper()\n",
    "    message = message.replace(' ', '')\n",
    "    # thay thế các kí tự k phải chữ cái bằng kí tự ''\n",
    "    for i in message:\n",
    "        if i not in alphabet:\n",
    "            message = message.replace(i, '')\n",
    "    plaintext_matrix = [alphabet.index(i) for i in message]\n",
    "    if len(plaintext_matrix) % len(Hill_matrix) != 0:\n",
    "        plaintext_matrix += [23] * (len(Hill_matrix) - len(plaintext_matrix) % len(Hill_matrix))\n",
    "    plaintext_matrix = np.array(plaintext_matrix)\n",
    "    plaintext_matrix = plaintext_matrix.reshape(-1, 4)\n",
    "    \n",
    "    return plaintext_matrix"
   ],
   "id": "f4f5461665487bf9",
   "outputs": [],
   "execution_count": 4
  },
  {
   "metadata": {
    "ExecuteTime": {
     "end_time": "2025-02-25T23:20:22.601380Z",
     "start_time": "2025-02-25T23:20:22.593100Z"
    }
   },
   "cell_type": "code",
   "source": [
    "plaintext_matrix = get_plaintext_matrix(message)\n",
    "print(plaintext_matrix)"
   ],
   "id": "baec67c7ffd4b45f",
   "outputs": [
    {
     "name": "stdout",
     "output_type": "stream",
     "text": [
      "[[12 24 13  0]\n",
      " [12  4  8 18]\n",
      " [21 20 14 13]\n",
      " [ 6 21  0 13]\n",
      " [ 3 20 24  5]\n",
      " [17 14 12  6]\n",
      " [17 14 20 15]]\n"
     ]
    }
   ],
   "execution_count": 5
  },
  {
   "metadata": {
    "ExecuteTime": {
     "end_time": "2025-02-25T23:20:22.669601Z",
     "start_time": "2025-02-25T23:20:22.641812Z"
    }
   },
   "cell_type": "code",
   "source": [
    "# in ma trận plaintext ra file excel xóa đi dòng thứ tự cột ở đầu\n",
    "df = pd.DataFrame(plaintext_matrix)\n",
    "df.to_excel('output/plaintext_matrix.xlsx', index=False, header=False)"
   ],
   "id": "1a3f998834a4b799",
   "outputs": [],
   "execution_count": 6
  },
  {
   "metadata": {
    "ExecuteTime": {
     "end_time": "2025-02-25T23:20:22.688356Z",
     "start_time": "2025-02-25T23:20:22.681862Z"
    }
   },
   "cell_type": "code",
   "source": [
    "def fix_format_ciphertext(message, ciphertext):\n",
    "    list_chars = list(message)\n",
    "    for i in range(len(list_chars)):\n",
    "        if not list_chars[i].isalpha():\n",
    "            ciphertext = ciphertext[:i] + list_chars[i] + ciphertext[i:]\n",
    "            list_chars[i] = '-'\n",
    "        if list_chars[i].islower():\n",
    "            ciphertext = ciphertext[:i] + ciphertext[i].lower() + ciphertext[i+1:]\n",
    "            \n",
    "    return ciphertext"
   ],
   "id": "62b3358f768ad90a",
   "outputs": [],
   "execution_count": 7
  },
  {
   "metadata": {
    "ExecuteTime": {
     "end_time": "2025-02-25T23:20:22.712934Z",
     "start_time": "2025-02-25T23:20:22.704910Z"
    }
   },
   "cell_type": "code",
   "source": [
    "def encrypt_Hill(message, Hill_matrix, mode=False):\n",
    "    plaintext_matrix = get_plaintext_matrix(message)\n",
    "    cipher_matrix = np.dot(plaintext_matrix, Hill_matrix) % 26\n",
    "    encrypted_message = cipher_matrix.flatten()\n",
    "    encrypted_message = [alphabet[i] for i in encrypted_message]\n",
    "    encrypted_message = ''.join(encrypted_message)\n",
    "    if mode:\n",
    "        encrypted_message = fix_format_ciphertext(message, encrypted_message)\n",
    "    return encrypted_message, cipher_matrix"
   ],
   "id": "85dc1b78918283e0",
   "outputs": [],
   "execution_count": 8
  },
  {
   "metadata": {
    "ExecuteTime": {
     "end_time": "2025-02-25T23:20:22.739050Z",
     "start_time": "2025-02-25T23:20:22.729882Z"
    }
   },
   "cell_type": "code",
   "source": [
    "cipher_text, cipher_matrix = encrypt_Hill(message, Hill_matrix)\n",
    "print(cipher_matrix)\n",
    "print(cipher_text)"
   ],
   "id": "3ee1039ab3047b40",
   "outputs": [
    {
     "name": "stdout",
     "output_type": "stream",
     "text": [
      "[[22 19 15 25]\n",
      " [14 24 14 20]\n",
      " [ 0  8  1 15]\n",
      " [ 7  6 10 10]\n",
      " [ 8  2  1 23]\n",
      " [ 2  1  0 23]\n",
      " [20 24  3  9]]\n",
      "WTPZOYOUAIBPHGKKICBXCBAXUYDJ\n"
     ]
    }
   ],
   "execution_count": 9
  },
  {
   "metadata": {
    "ExecuteTime": {
     "end_time": "2025-02-25T23:20:22.791448Z",
     "start_time": "2025-02-25T23:20:22.783937Z"
    }
   },
   "cell_type": "code",
   "source": [
    "cipher_text, _ = encrypt_Hill(message, Hill_matrix, mode=True)\n",
    "print(cipher_text)"
   ],
   "id": "3b700034c401726f",
   "outputs": [
    {
     "name": "stdout",
     "output_type": "stream",
     "text": [
      "Wt pzoy ou Aibph Gkk Icb xcba xuydj 1362\n"
     ]
    }
   ],
   "execution_count": 10
  },
  {
   "metadata": {
    "ExecuteTime": {
     "end_time": "2025-02-25T23:20:22.902410Z",
     "start_time": "2025-02-25T23:20:22.865484Z"
    }
   },
   "cell_type": "code",
   "source": [
    "# in ma trận cipher ra file excel \n",
    "df = pd.DataFrame(cipher_matrix)\n",
    "df.to_excel('output/cipher_matrix.xlsx', index=False, header=False)"
   ],
   "id": "a2b2ad70ce1438cd",
   "outputs": [],
   "execution_count": 11
  },
  {
   "metadata": {
    "ExecuteTime": {
     "end_time": "2025-02-25T23:20:22.930013Z",
     "start_time": "2025-02-25T23:20:22.922620Z"
    }
   },
   "cell_type": "code",
   "source": [
    "def mod_inverse(a, m):\n",
    "    a = a % m\n",
    "    for x in range(1, m):\n",
    "        if (a * x) % m == 1:\n",
    "            return x\n",
    "    return 1"
   ],
   "id": "e57ce64cce84047a",
   "outputs": [],
   "execution_count": 12
  },
  {
   "metadata": {
    "ExecuteTime": {
     "end_time": "2025-02-25T23:20:22.961735Z",
     "start_time": "2025-02-25T23:20:22.951749Z"
    }
   },
   "cell_type": "code",
   "source": [
    "def get_Hill_matrix_inv(Hill_matrix):\n",
    "    det = int(np.round(np.linalg.det(Hill_matrix)))\n",
    "    det_inv = mod_inverse(det, 26)\n",
    "    Hill_matrix_inv = np.round(det_inv * np.linalg.inv(Hill_matrix) * det).astype(int) % 26\n",
    "    \n",
    "    return Hill_matrix_inv"
   ],
   "id": "8e2856d4221bc7f1",
   "outputs": [],
   "execution_count": 13
  },
  {
   "metadata": {
    "ExecuteTime": {
     "end_time": "2025-02-25T23:20:23.001965Z",
     "start_time": "2025-02-25T23:20:22.981928Z"
    }
   },
   "cell_type": "code",
   "source": [
    "Hill_matrix_inv = get_Hill_matrix_inv(Hill_matrix)\n",
    "print(Hill_matrix_inv)"
   ],
   "id": "45a4f7aa64fbe7f0",
   "outputs": [
    {
     "name": "stdout",
     "output_type": "stream",
     "text": [
      "[[12  7  0 19]\n",
      " [19 22  3 19]\n",
      " [25 20  9 22]\n",
      " [ 0 16 23 17]]\n"
     ]
    }
   ],
   "execution_count": 14
  },
  {
   "metadata": {
    "ExecuteTime": {
     "end_time": "2025-02-25T23:20:23.072625Z",
     "start_time": "2025-02-25T23:20:23.035854Z"
    }
   },
   "cell_type": "code",
   "source": [
    "# in ma trận Hill_matrix_inv ra file excel\n",
    "df = pd.DataFrame(Hill_matrix_inv)\n",
    "df.to_excel('output/Hill_matrix_inv.xlsx', index=False, header=False)"
   ],
   "id": "3b7e66439231f8b4",
   "outputs": [],
   "execution_count": 15
  },
  {
   "metadata": {
    "ExecuteTime": {
     "end_time": "2025-02-25T23:20:23.097817Z",
     "start_time": "2025-02-25T23:20:23.088725Z"
    }
   },
   "cell_type": "code",
   "source": [
    "def fix_format_decrypted_message(cipher_text, decrypted_message):\n",
    "    list_chars = list(cipher_text)\n",
    "    for i in range(len(list_chars)):\n",
    "        if not list_chars[i].isalpha():\n",
    "            decrypted_message = decrypted_message[:i] + list_chars[i] + decrypted_message[i:]\n",
    "            list_chars[i] = '-'\n",
    "        if list_chars[i].islower():\n",
    "            decrypted_message = decrypted_message[:i] + decrypted_message[i].lower() + decrypted_message[i+1:]\n",
    "            \n",
    "    return decrypted_message"
   ],
   "id": "f9c9a518e25d6155",
   "outputs": [],
   "execution_count": 16
  },
  {
   "metadata": {
    "ExecuteTime": {
     "end_time": "2025-02-25T23:20:23.126759Z",
     "start_time": "2025-02-25T23:20:23.116218Z"
    }
   },
   "cell_type": "code",
   "source": [
    "def decrypt_Hill(cipher_text, Hill_matrix, mode=False):\n",
    "    cipher_text_root = cipher_text\n",
    "    Hill_matrix_inv = get_Hill_matrix_inv(Hill_matrix)\n",
    "    cipher_text = cipher_text.upper()\n",
    "    for i in cipher_text:\n",
    "        if i not in alphabet:\n",
    "            cipher_text = cipher_text.replace(i, '')\n",
    "    cipher_text = [alphabet.index(i) for i in cipher_text]\n",
    "    cipher_text = np.array(cipher_text)\n",
    "    cipher_text = cipher_text.reshape(-1, 4)\n",
    "    decrypted_message = np.dot(cipher_text, Hill_matrix_inv) % 26\n",
    "    decrypted_message = decrypted_message.flatten()\n",
    "    decrypted_message = [alphabet[i] for i in decrypted_message]\n",
    "    decrypted_message = ''.join(decrypted_message)\n",
    "    if mode:\n",
    "        decrypted_message = fix_format_decrypted_message(cipher_text_root, decrypted_message)\n",
    "    return decrypted_message"
   ],
   "id": "dadbde9785ec0868",
   "outputs": [],
   "execution_count": 17
  },
  {
   "metadata": {
    "ExecuteTime": {
     "end_time": "2025-02-25T23:20:23.154547Z",
     "start_time": "2025-02-25T23:20:23.145525Z"
    }
   },
   "cell_type": "code",
   "source": [
    "decrypted_message = decrypt_Hill(cipher_text, Hill_matrix, mode=True)\n",
    "print(decrypted_message)"
   ],
   "id": "906c5ee058266634",
   "outputs": [
    {
     "name": "stdout",
     "output_type": "stream",
     "text": [
      "My name is Vuong Van Duy from group 1362\n"
     ]
    }
   ],
   "execution_count": 18
  },
  {
   "metadata": {
    "ExecuteTime": {
     "end_time": "2025-02-25T23:20:23.281950Z",
     "start_time": "2025-02-25T23:20:23.272744Z"
    }
   },
   "cell_type": "code",
   "source": [
    "# in toàn bộ dữ liệu ra file text. \n",
    "with open('output_cipher/data_HILL.txt', 'w') as f:\n",
    "    f.write(f'Plaintext: {message}\\n\\n')\n",
    "    f.write(f'Hill matrix:\\n{Hill_matrix}\\n\\n')\n",
    "    f.write(f'Plaintext matrix:\\n{plaintext_matrix}\\n\\n')\n",
    "    f.write(f'Ciphertext:\\n{cipher_text}\\n\\n')\n",
    "    f.write(f'Cipher matrix:\\n{cipher_matrix}\\n\\n')\n",
    "    f.write(f'Hill matrix inversed:\\n{Hill_matrix_inv}\\n\\n')\n",
    "    f.write(f'Decrypted message:\\n{decrypted_message}')"
   ],
   "id": "40e04c814baab61f",
   "outputs": [],
   "execution_count": 19
  }
 ],
 "metadata": {
  "kernelspec": {
   "display_name": "Python 3",
   "language": "python",
   "name": "python3"
  },
  "language_info": {
   "codemirror_mode": {
    "name": "ipython",
    "version": 2
   },
   "file_extension": ".py",
   "mimetype": "text/x-python",
   "name": "python",
   "nbconvert_exporter": "python",
   "pygments_lexer": "ipython2",
   "version": "2.7.6"
  }
 },
 "nbformat": 4,
 "nbformat_minor": 5
}
